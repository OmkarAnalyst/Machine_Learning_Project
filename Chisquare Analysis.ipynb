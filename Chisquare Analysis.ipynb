{
 "cells": [
  {
   "cell_type": "code",
   "execution_count": 1,
   "id": "8b37ec3a-d58b-40b4-99bd-3eb773a07476",
   "metadata": {},
   "outputs": [],
   "source": [
    "import pandas as pd\n",
    "import scipy.stats as stats"
   ]
  },
  {
   "cell_type": "code",
   "execution_count": 2,
   "id": "e3015f32-27d2-4a56-87cd-596d64c45b2b",
   "metadata": {},
   "outputs": [
    {
     "name": "stdout",
     "output_type": "stream",
     "text": [
      "Contingency Table:\n",
      "                  Smart Thermostat  Smart Light\n",
      "Very Satisfied                  50           70\n",
      "Satisfied                       80          100\n",
      "Neutral                         60           90\n",
      "Unsatisfied                     30           50\n",
      "Very Unsatisfied                20           50\n"
     ]
    }
   ],
   "source": [
    "data = [[50, 70],   \n",
    "        [80, 100], \n",
    "        [60, 90],   \n",
    "        [30, 50],   \n",
    "        [20, 50]]   \n",
    "\n",
    "index = ['Very Satisfied', 'Satisfied', 'Neutral', 'Unsatisfied', 'Very Unsatisfied']\n",
    "columns = ['Smart Thermostat', 'Smart Light']\n",
    "\n",
    "contingency_table = pd.DataFrame(data, index=index, columns=columns)\n",
    "print(\"Contingency Table:\")\n",
    "print(contingency_table)\n"
   ]
  },
  {
   "cell_type": "code",
   "execution_count": null,
   "id": "1166da0e-0f1e-480d-85f8-9cf37a629ef7",
   "metadata": {},
   "outputs": [],
   "source": [
    "# H0: There is no association between device type and customer satisfaction.\n",
    "# H1: There is an association between device type and customer satisfaction."
   ]
  },
  {
   "cell_type": "code",
   "execution_count": 3,
   "id": "165e7023-5b10-44a1-925b-fc8ef31768c7",
   "metadata": {},
   "outputs": [
    {
     "name": "stdout",
     "output_type": "stream",
     "text": [
      "\n",
      "Expected Frequencies:\n",
      "                  Smart Thermostat  Smart Light\n",
      "Very Satisfied                48.0         72.0\n",
      "Satisfied                     72.0        108.0\n",
      "Neutral                       60.0         90.0\n",
      "Unsatisfied                   32.0         48.0\n",
      "Very Unsatisfied              28.0         42.0\n",
      "\n",
      "Chi-Square Statistic: 5.6382\n",
      "Degrees of Freedom: 4\n",
      "P-Value: 0.2278\n"
     ]
    }
   ],
   "source": [
    "chi2, p, dof, expected = stats.chi2_contingency(contingency_table)\n",
    "\n",
    "print(\"\\nExpected Frequencies:\")\n",
    "print(pd.DataFrame(expected, index=index, columns=columns))\n",
    "\n",
    "print(f\"\\nChi-Square Statistic: {chi2:.4f}\")\n",
    "print(f\"Degrees of Freedom: {dof}\")\n",
    "print(f\"P-Value: {p:.4f}\")\n"
   ]
  },
  {
   "cell_type": "code",
   "execution_count": 4,
   "id": "99d123fa-6d99-47bf-8df7-3d55c25330be",
   "metadata": {},
   "outputs": [
    {
     "name": "stdout",
     "output_type": "stream",
     "text": [
      "Critical Value at alpha=0.05: 9.4877\n"
     ]
    }
   ],
   "source": [
    "alpha = 0.05\n",
    "critical_value = stats.chi2.ppf(1 - alpha, dof)\n",
    "print(f\"Critical Value at alpha=0.05: {critical_value:.4f}\")\n"
   ]
  },
  {
   "cell_type": "code",
   "execution_count": 5,
   "id": "2015bf34-9431-4e0c-a557-60151feb0824",
   "metadata": {},
   "outputs": [
    {
     "name": "stdout",
     "output_type": "stream",
     "text": [
      "\n",
      "Decision: Fail to reject the null hypothesis (H0).\n",
      "Conclusion: There is no significant association between device type and customer satisfaction.\n"
     ]
    }
   ],
   "source": [
    "if chi2 > critical_value:\n",
    "    print(\"\\nDecision: Reject the null hypothesis (H0).\")\n",
    "    print(\"Conclusion: There is a significant association between device type and customer satisfaction.\")\n",
    "elif chi2 < critical_value:\n",
    "    print(\"\\nDecision: Fail to reject the null hypothesis (H0).\")\n",
    "    print(\"Conclusion: There is no significant association between device type and customer satisfaction.\")\n",
    "else:\n",
    "    print(\"\\nDecision: Test statistic equals critical value.\")\n",
    "    print(\"Conclusion: Result is on the borderline of significance.\")\n"
   ]
  },
  {
   "cell_type": "code",
   "execution_count": null,
   "id": "0e1c3e0f-5b3e-424a-b43f-5d2fc47365f0",
   "metadata": {},
   "outputs": [],
   "source": []
  }
 ],
 "metadata": {
  "kernelspec": {
   "display_name": "Python 3 (ipykernel)",
   "language": "python",
   "name": "python3"
  },
  "language_info": {
   "codemirror_mode": {
    "name": "ipython",
    "version": 3
   },
   "file_extension": ".py",
   "mimetype": "text/x-python",
   "name": "python",
   "nbconvert_exporter": "python",
   "pygments_lexer": "ipython3",
   "version": "3.12.7"
  }
 },
 "nbformat": 4,
 "nbformat_minor": 5
}
