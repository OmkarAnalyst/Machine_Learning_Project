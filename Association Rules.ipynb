{
 "cells": [
  {
   "cell_type": "code",
   "execution_count": 1,
   "id": "c7261e93-8987-4e75-9fde-ead966044d47",
   "metadata": {},
   "outputs": [],
   "source": [
    "import pandas as pd\n",
    "from mlxtend.preprocessing import TransactionEncoder\n",
    "from mlxtend.frequent_patterns import apriori, association_rules\n"
   ]
  },
  {
   "cell_type": "code",
   "execution_count": 2,
   "id": "3e972f2c-43af-4fb3-a865-f092f1846542",
   "metadata": {},
   "outputs": [],
   "source": [
    "# Load dataset\n",
    "file_path = \"Online retail.xlsx\"   # Adjust path if needed\n",
    "data = pd.read_excel(file_path)"
   ]
  },
  {
   "cell_type": "code",
   "execution_count": 3,
   "id": "26b656a7-b6cb-4cc7-905a-279525b39793",
   "metadata": {},
   "outputs": [],
   "source": [
    "# Step 1: Convert the single column into list of transactions\n",
    "transactions = data.iloc[:,0].apply(lambda x: x.split(','))\n"
   ]
  },
  {
   "cell_type": "code",
   "execution_count": 4,
   "id": "c393d7a6-63e1-4bcf-9614-b9fbfd198c44",
   "metadata": {},
   "outputs": [],
   "source": [
    "# Step 2: Transform transactions into one-hot encoded dataframe\n",
    "te = TransactionEncoder()\n",
    "te_array = te.fit(transactions).transform(transactions)\n",
    "df = pd.DataFrame(te_array, columns=te.columns_)"
   ]
  },
  {
   "cell_type": "code",
   "execution_count": 5,
   "id": "86468ada-5f7d-4e4c-9e68-071f3d5e6b0a",
   "metadata": {},
   "outputs": [],
   "source": [
    "# Step 3: Apply Apriori algorithm to find frequent itemsets\n",
    "frequent_itemsets = apriori(df, min_support=0.02, use_colnames=True)\n"
   ]
  },
  {
   "cell_type": "code",
   "execution_count": 6,
   "id": "8210e3b9-2484-4c41-88e0-8caaf8187396",
   "metadata": {},
   "outputs": [],
   "source": [
    "# Step 4: Generate association rules\n",
    "rules = association_rules(frequent_itemsets, metric=\"lift\", min_threshold=1)\n"
   ]
  },
  {
   "cell_type": "code",
   "execution_count": 7,
   "id": "a08a2cf6-00ca-401e-82ee-e63ee0ca3d70",
   "metadata": {},
   "outputs": [],
   "source": [
    "# Step 5: Sort rules by confidence and lift for better readability\n",
    "rules_sorted = rules.sort_values(by=[\"confidence\", \"lift\"], ascending=[False, False])\n"
   ]
  },
  {
   "cell_type": "code",
   "execution_count": 8,
   "id": "59b5fe02-53be-458f-bf66-2351217dbdbc",
   "metadata": {},
   "outputs": [
    {
     "name": "stdout",
     "output_type": "stream",
     "text": [
      "Frequent Itemsets:\n",
      "    support    itemsets\n",
      "0  0.020267   (almonds)\n",
      "1  0.033200   (avocado)\n",
      "2  0.033733  (brownies)\n",
      "3  0.087200   (burgers)\n",
      "4  0.030133    (butter)\n",
      "\n",
      "Association Rules:\n",
      "      antecedents      consequents  antecedent support  consequent support  \\\n",
      "80         (soup)  (mineral water)            0.050533            0.238267   \n",
      "74    (olive oil)  (mineral water)            0.065733            0.238267   \n",
      "64  (ground beef)  (mineral water)            0.098267            0.238267   \n",
      "66  (ground beef)      (spaghetti)            0.098267            0.174133   \n",
      "29  (cooking oil)  (mineral water)            0.051067            0.238267   \n",
      "\n",
      "     support  confidence      lift  representativity  leverage  conviction  \\\n",
      "80  0.023067    0.456464  1.915771               1.0  0.011026    1.401441   \n",
      "74  0.027467    0.417850  1.753707               1.0  0.011805    1.308483   \n",
      "64  0.040933    0.416554  1.748266               1.0  0.017520    1.305576   \n",
      "66  0.039200    0.398915  2.290857               1.0  0.022088    1.373959   \n",
      "29  0.020133    0.394256  1.654683               1.0  0.007966    1.257517   \n",
      "\n",
      "    zhangs_metric   jaccard  certainty  kulczynski  \n",
      "80       0.503458  0.086804   0.286449    0.276637  \n",
      "74       0.460018  0.099325   0.235756    0.266563  \n",
      "64       0.474647  0.138475   0.234054    0.294175  \n",
      "66       0.624888  0.168096   0.272176    0.312015  \n",
      "29       0.416947  0.074789   0.204782    0.239378  \n"
     ]
    }
   ],
   "source": [
    "# Display sample outputs\n",
    "print(\"Frequent Itemsets:\")\n",
    "print(frequent_itemsets.head())\n",
    "\n",
    "print(\"\\nAssociation Rules:\")\n",
    "print(rules_sorted.head())"
   ]
  },
  {
   "cell_type": "code",
   "execution_count": 9,
   "id": "064235a3-fe69-4377-ad8a-f84da2327664",
   "metadata": {},
   "outputs": [],
   "source": [
    "# Save results to Excel\n",
    "frequent_itemsets.to_excel(\"frequent_itemsets.xlsx\", index=False)\n",
    "rules_sorted.to_excel(\"association_rules.xlsx\", index=False)"
   ]
  },
  {
   "cell_type": "code",
   "execution_count": null,
   "id": "7c119d10-fbbb-4532-958a-5b3ea45a734f",
   "metadata": {},
   "outputs": [],
   "source": [
    "'''\n",
    "Interview Questions:\n",
    "1.\tWhat is lift and why is it important in Association rules?\n",
    "Lift measures how strongly two items are associated compared to their expected occurrence if they were independent. \n",
    "A lift greater than 1 means the items occur together more often than by chance, while a lift less than 1 means they occur together less often. \n",
    "It is important because it helps identify truly meaningful relationships, avoiding misleading results that can happen if we rely only on confidence.\n",
    "'''"
   ]
  },
  {
   "cell_type": "code",
   "execution_count": null,
   "id": "3e5b8f59-1feb-4bef-90c7-f30c51cb7dec",
   "metadata": {},
   "outputs": [],
   "source": [
    "'''\n",
    "2.\tWhat is support and Confidence. How do you calculate them?\n",
    "Support shows how frequently a set of items appears in the dataset. It tells us the overall importance of a rule.\n",
    "\n",
    "Confidence measures how often one item is found in transactions that already contain another item. It reflects the reliability of the rule.\n",
    "\n",
    "Together, support ensures the rule is relevant, and confidence shows its strength.\n",
    "'''"
   ]
  },
  {
   "cell_type": "code",
   "execution_count": null,
   "id": "fe2b0f6c-3986-4806-ba05-7cfa4cfd6d79",
   "metadata": {},
   "outputs": [],
   "source": [
    "'''\n",
    "3.\tWhat are some limitations or challenges of Association rules mining?\n",
    "It can generate a very large number of rules, many of which are not useful.\n",
    "\n",
    "Rare but important item associations may be missed.\n",
    "\n",
    "Processing large datasets can be computationally expensive.\n",
    "\n",
    "Not all rules are meaningful or actionable; they need careful filtering.\n",
    "\n",
    "It does not capture the order or timing of purchases.\n",
    "\n",
    "It shows correlation but not causation.\n",
    "'''"
   ]
  }
 ],
 "metadata": {
  "kernelspec": {
   "display_name": "Python 3 (ipykernel)",
   "language": "python",
   "name": "python3"
  },
  "language_info": {
   "codemirror_mode": {
    "name": "ipython",
    "version": 3
   },
   "file_extension": ".py",
   "mimetype": "text/x-python",
   "name": "python",
   "nbconvert_exporter": "python",
   "pygments_lexer": "ipython3",
   "version": "3.12.7"
  }
 },
 "nbformat": 4,
 "nbformat_minor": 5
}
