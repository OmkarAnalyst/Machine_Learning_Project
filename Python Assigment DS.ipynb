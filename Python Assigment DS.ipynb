{
 "cells": [
  {
   "cell_type": "code",
   "execution_count": 11,
   "id": "f97c86ab-b1bc-4646-83b7-8e94abcde884",
   "metadata": {},
   "outputs": [
    {
     "name": "stdin",
     "output_type": "stream",
     "text": [
      "Enter a number:  5\n"
     ]
    },
    {
     "name": "stdout",
     "output_type": "stream",
     "text": [
      "Prime Number\n"
     ]
    }
   ],
   "source": [
    "#Exercise 1: Prime Numbers\n",
    "\n",
    "num = int(input(\"Enter a number: \"))\n",
    "\n",
    "if num < 2:\n",
    "    print(\"Not Prime Number\")\n",
    "else:\n",
    "    is_prime = True\n",
    "    for i in range(2, num):\n",
    "        if num % i == 0:\n",
    "            is_prime = False\n",
    "            break\n",
    "\n",
    "    if is_prime:\n",
    "        print(\"Prime Number\")\n",
    "    else:\n",
    "        print(\"Not Prime Number\")\n"
   ]
  },
  {
   "cell_type": "code",
   "execution_count": 40,
   "id": "e37b95be-135f-40fe-a191-74bbabc925ca",
   "metadata": {},
   "outputs": [
    {
     "name": "stdout",
     "output_type": "stream",
     "text": [
      "What is 10 × 1?\n"
     ]
    },
    {
     "name": "stdin",
     "output_type": "stream",
     "text": [
      "Enter Number: 10\n"
     ]
    },
    {
     "name": "stdout",
     "output_type": "stream",
     "text": [
      "Correct! Well Done\n"
     ]
    }
   ],
   "source": [
    "##### Exercise 2: Product of Random Numbers\n",
    "import random as rd\n",
    "\n",
    "num1 = rd.randint(1,10)\n",
    "num2 = rd.randint(1,10)\n",
    "\n",
    "print(f\"What is {num1} × {num2}?\")\n",
    "user_input = int(input(\"Enter Number:\"))\n",
    "\n",
    "correct_value = num1*num2\n",
    "\n",
    "if user_input == correct_value:\n",
    "    print(\"Correct! Well Done\")\n",
    "else:\n",
    "     print(f\"Incorrect. The correct answer is {correct_value}.\")"
   ]
  },
  {
   "cell_type": "code",
   "execution_count": 49,
   "id": "09895f66-35b1-4c9c-9199-e5c4a9b72294",
   "metadata": {},
   "outputs": [
    {
     "name": "stdout",
     "output_type": "stream",
     "text": [
      "100 = 10000\n",
      "102 = 10404\n",
      "104 = 10816\n",
      "106 = 11236\n",
      "108 = 11664\n",
      "110 = 12100\n",
      "112 = 12544\n",
      "114 = 12996\n",
      "116 = 13456\n",
      "118 = 13924\n",
      "120 = 14400\n",
      "122 = 14884\n",
      "124 = 15376\n",
      "126 = 15876\n",
      "128 = 16384\n",
      "130 = 16900\n",
      "132 = 17424\n",
      "134 = 17956\n",
      "136 = 18496\n",
      "138 = 19044\n",
      "140 = 19600\n",
      "142 = 20164\n",
      "144 = 20736\n",
      "146 = 21316\n",
      "148 = 21904\n",
      "150 = 22500\n",
      "152 = 23104\n",
      "154 = 23716\n",
      "156 = 24336\n",
      "158 = 24964\n",
      "160 = 25600\n",
      "162 = 26244\n",
      "164 = 26896\n",
      "166 = 27556\n",
      "168 = 28224\n",
      "170 = 28900\n",
      "172 = 29584\n",
      "174 = 30276\n",
      "176 = 30976\n",
      "178 = 31684\n",
      "180 = 32400\n",
      "182 = 33124\n",
      "184 = 33856\n",
      "186 = 34596\n",
      "188 = 35344\n",
      "190 = 36100\n",
      "192 = 36864\n",
      "194 = 37636\n",
      "196 = 38416\n",
      "198 = 39204\n",
      "200 = 40000\n"
     ]
    }
   ],
   "source": [
    "#Exercise 3: Squares of Even/Odd Numbers\n",
    "\n",
    "for i in range(100,201):\n",
    "    if i%2 == 0:\n",
    "        square = i ** 2\n",
    "        print(f\"{i} = {square}\")\n",
    "        "
   ]
  },
  {
   "cell_type": "code",
   "execution_count": 52,
   "id": "15f4c2f8-4e30-4b5a-bb64-71095385a2e0",
   "metadata": {},
   "outputs": [
    {
     "name": "stdout",
     "output_type": "stream",
     "text": [
      "'this': 2\n",
      "'is': 1\n",
      "'a': 1\n",
      "'sample': 1\n",
      "'text': 2\n",
      "'will': 1\n",
      "'be': 1\n",
      "'used': 1\n",
      "'to': 1\n",
      "'demonstrate': 1\n",
      "'the': 1\n",
      "'word': 1\n",
      "'counter': 1\n"
     ]
    }
   ],
   "source": [
    "#Exercise 4: Word counter\n",
    "\n",
    "input_text = \"This is a sample text. This text will be used to demonstrate the word counter.\"\n",
    "\n",
    "input_text = input_text.lower()\n",
    "\n",
    "punctuations = \".!?,;:\"\n",
    "for p in punctuations:\n",
    "    input_text = input_text.replace(p, \"\")\n",
    "\n",
    "words = input_text.split()\n",
    "\n",
    "word_count = {}\n",
    "\n",
    "for word in words:\n",
    "    if word in word_count:\n",
    "        word_count[word] = word_count[word] + 1\n",
    "    else:\n",
    "        word_count[word] = 1\n",
    "\n",
    "for word in word_count:\n",
    "    print(f\"'{word}': {word_count[word]}\")\n",
    "\n",
    "\n",
    "\n"
   ]
  },
  {
   "cell_type": "code",
   "execution_count": 53,
   "id": "49d09805-dc93-4e5c-9846-79ad4a75fd16",
   "metadata": {},
   "outputs": [
    {
     "name": "stdin",
     "output_type": "stream",
     "text": [
      "Enter a string:  Hii omkar\n"
     ]
    },
    {
     "name": "stdout",
     "output_type": "stream",
     "text": [
      "False\n"
     ]
    }
   ],
   "source": [
    "#Exercise 5: Check for Palindrome\n",
    "\n",
    "text = input(\"Enter a string: \")\n",
    "\n",
    "text = text.lower()\n",
    "\n",
    "clean_text = \"\"\n",
    "for char in text:\n",
    "    if char.isalnum():\n",
    "        clean_text += char\n",
    "\n",
    "reversed_text = clean_text[::-1]\n",
    "\n",
    "if clean_text == reversed_text:\n",
    "    print(\"True\")  \n",
    "else:\n",
    "    print(\"False\")  "
   ]
  }
 ],
 "metadata": {
  "kernelspec": {
   "display_name": "Python 3 (ipykernel)",
   "language": "python",
   "name": "python3"
  },
  "language_info": {
   "codemirror_mode": {
    "name": "ipython",
    "version": 3
   },
   "file_extension": ".py",
   "mimetype": "text/x-python",
   "name": "python",
   "nbconvert_exporter": "python",
   "pygments_lexer": "ipython3",
   "version": "3.12.7"
  }
 },
 "nbformat": 4,
 "nbformat_minor": 5
}
