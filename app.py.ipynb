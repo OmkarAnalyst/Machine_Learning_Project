{
 "cells": [
  {
   "cell_type": "code",
   "execution_count": null,
   "id": "932d64d5-9b3a-41fd-8710-6b06272a8fad",
   "metadata": {},
   "outputs": [],
   "source": [
    "import streamlit as st\n",
    "import joblib\n",
    "import numpy as np\n",
    "\n",
    "# Load the trained model\n",
    "model = joblib.load(\"logistic_model.pkl\")\n",
    "\n",
    "st.title(\"Logistic Regression Prediction App\")\n",
    "\n",
    "# Example input fields (modify according to your dataset features)\n",
    "st.header(\"Enter Input Features:\")\n",
    "\n",
    "feature1 = st.number_input(\"Feature 1\", min_value=0.0, max_value=100.0, value=10.0)\n",
    "feature2 = st.number_input(\"Feature 2\", min_value=0.0, max_value=100.0, value=20.0)\n",
    "feature3 = st.number_input(\"Feature 3\", min_value=0.0, max_value=100.0, value=30.0)\n",
    "\n",
    "# Convert inputs to array\n",
    "input_data = np.array([[feature1, feature2, feature3]])\n",
    "\n",
    "if st.button(\"Predict\"):\n",
    "    prediction = model.predict(input_data)[0]\n",
    "    probability = model.predict_proba(input_data)[0]\n",
    "\n",
    "    st.success(f\"Predicted Class: {prediction}\")\n",
    "    st.write(f\"Class Probabilities: {probability}\")\n"
   ]
  }
 ],
 "metadata": {
  "kernelspec": {
   "display_name": "Python 3 (ipykernel)",
   "language": "python",
   "name": "python3"
  },
  "language_info": {
   "codemirror_mode": {
    "name": "ipython",
    "version": 3
   },
   "file_extension": ".py",
   "mimetype": "text/x-python",
   "name": "python",
   "nbconvert_exporter": "python",
   "pygments_lexer": "ipython3",
   "version": "3.12.7"
  }
 },
 "nbformat": 4,
 "nbformat_minor": 5
}
