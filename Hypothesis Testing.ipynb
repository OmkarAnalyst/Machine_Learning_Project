{
 "cells": [
  {
   "cell_type": "code",
   "execution_count": null,
   "id": "919cb97a-f4b6-449e-882e-1f6df75d0358",
   "metadata": {},
   "outputs": [],
   "source": [
    "#Hypothesis Testing Assignment - Bombay Hospitality Ltd."
   ]
  },
  {
   "cell_type": "code",
   "execution_count": null,
   "id": "3ee49f01-b1e3-44e5-878c-70a3af26ca43",
   "metadata": {},
   "outputs": [],
   "source": [
    "''' \n",
    "Bombay Hospitality Ltd. operates a franchise model for producing exotic Norwegian dinners throughout New England.\n",
    "The weekly operating cost (W) is modeled as:\n",
    "    W = 1000 + 5X\n",
    "where X is the number of units produced in a week.\n",
    "\n",
    "Restaurant owners claim that the actual weekly operating costs are higher than the model suggests.\n",
    "'''"
   ]
  },
  {
   "cell_type": "code",
   "execution_count": null,
   "id": "6c6dbb84-809f-406d-94e1-f0753f765db8",
   "metadata": {},
   "outputs": [],
   "source": [
    "#Objective:\n",
    "#To test this claim using hypothesis testing (one-tailed z-test)."
   ]
  },
  {
   "cell_type": "code",
   "execution_count": null,
   "id": "b0ce346d-0a97-4c9a-be0e-df7455ee8679",
   "metadata": {},
   "outputs": [],
   "source": [
    "'''\n",
    "Data:\n",
    "- Sample size (n) = 25 restaurants\n",
    "- Sample mean (x̄) = Rs. 3050\n",
    "- X follows a Normal distribution with mean μ = 600 units, σ = 25 units\n",
    "- Theoretical weekly cost (μ_w) = 1000 + 5*600 = Rs. 4000\n",
    "- Standard deviation of weekly cost = 5*25 = Rs. 125\n",
    "'''"
   ]
  },
  {
   "cell_type": "code",
   "execution_count": null,
   "id": "8f92cfd1-d572-40c5-ae34-c5fb17af5016",
   "metadata": {},
   "outputs": [],
   "source": [
    "'''\n",
    "Problem Note:\n",
    "There is a discrepancy in the problem statement because the theoretical mean based on the given formula is Rs. 4000,\n",
    "but the hypothesis in the question seems to suggest Rs. 3000. For the purpose of this assignment, we proceed with\n",
    "the corrected hypothesis test using μ_w = 4000 as derived from the given cost model.\n",
    "'''"
   ]
  },
  {
   "cell_type": "code",
   "execution_count": 1,
   "id": "f07d08fe-a88a-40c3-8521-040f69f25d3a",
   "metadata": {},
   "outputs": [],
   "source": [
    "import math\n",
    "from scipy.stats import norm"
   ]
  },
  {
   "cell_type": "code",
   "execution_count": 2,
   "id": "d767bb24-a8d4-4c5e-ac09-6d9ff4a5b92e",
   "metadata": {},
   "outputs": [],
   "source": [
    "#Step 1: Define known values\n",
    "sample_mean = 3050              # Sample mean (Rs.)\n",
    "X_mean = 600                    # Mean of X (units produced)\n",
    "X_sigma = 25                    # Std. deviation of X (units)\n",
    "n = 25                          # Sample size"
   ]
  },
  {
   "cell_type": "code",
   "execution_count": 3,
   "id": "3a91bbc0-c7a6-497e-ab60-0b4b66f420ba",
   "metadata": {},
   "outputs": [],
   "source": [
    "# Theoretical mean weekly cost (from model)\n",
    "theoretical_mean = 1000 + 5 * X_mean "
   ]
  },
  {
   "cell_type": "code",
   "execution_count": null,
   "id": "08be3d21-1156-4a88-9672-44220561ae7d",
   "metadata": {},
   "outputs": [],
   "source": [
    "# Standard deviation of weekly cost\n",
    "std_dev = 5 * X_sigma"
   ]
  },
  {
   "cell_type": "code",
   "execution_count": null,
   "id": "528be9db-6f12-4777-ae5d-34865842a298",
   "metadata": {},
   "outputs": [],
   "source": [
    "# Standard error of the mean\n",
    "se = std_dev / math.sqrt(n)"
   ]
  },
  {
   "cell_type": "code",
   "execution_count": null,
   "id": "baf8383d-8600-4f67-996c-423acfde1d65",
   "metadata": {},
   "outputs": [],
   "source": [
    "# Step 2: Calculate test statistic (z)\n",
    "z = (sample_mean - theoretical_mean) / se"
   ]
  },
  {
   "cell_type": "code",
   "execution_count": null,
   "id": "83187183-a1f5-4af4-b12e-f1014609e94f",
   "metadata": {},
   "outputs": [],
   "source": [
    "#Step 3: Determine critical value at α = 0.05 (one-tailed)\n",
    "alpha = 0.05\n",
    "z_critical = norm.ppf(1 - alpha)"
   ]
  },
  {
   "cell_type": "code",
   "execution_count": null,
   "id": "8bf5b1a5-6cd3-4708-a1a8-6eede7df471b",
   "metadata": {},
   "outputs": [],
   "source": [
    "# Step 4: Decision rule\n",
    "\n",
    "if z > z_critical:\n",
    "    decision = \"Reject the null hypothesis\"\n",
    "    conclusion = \"There is strong evidence that the weekly operating costs are higher than the model suggests.\"\n",
    "else:\n",
    "    decision = \"Fail to reject the null hypothesis\"\n",
    "    conclusion = \"There is not enough evidence to support the claim that the weekly operating costs are higher.\"\n"
   ]
  },
  {
   "cell_type": "code",
   "execution_count": null,
   "id": "6115bf83-debf-41ff-8d21-2306683455d6",
   "metadata": {},
   "outputs": [],
   "source": [
    "#Step 5: Print Results\n",
    "print(\"Hypothesis Testing for Bombay Hospitality Ltd.\\\\n\")\n",
    "print(f\"Sample Mean = {sample_mean}\")\n",
    "print(f\"Theoretical Mean (from model) = {theoretical_mean}\")\n",
    "print(f\"Standard Deviation = {std_dev}\")\n",
    "print(f\"Sample Size = {n}\")\n",
    "print(f\"Standard Error = {se:.2f}\\\\n\")\n",
    "\n",
    "print(f\"Test Statistic (z) = {z:.4f}\")\n",
    "print(f\"Critical Value (z) at alpha=0.05 = {z_critical:.4f}\\\\n\")\n",
    "\n",
    "print(\"Decision:\", decision)\n",
    "print(\"Conclusion:\", conclusion)"
   ]
  },
  {
   "cell_type": "code",
   "execution_count": null,
   "id": "a1d8b5db-f520-4aad-8327-c9ade6666a69",
   "metadata": {},
   "outputs": [],
   "source": []
  },
  {
   "cell_type": "code",
   "execution_count": null,
   "id": "2d973530-d285-4018-8845-3281866cdf44",
   "metadata": {},
   "outputs": [],
   "source": []
  }
 ],
 "metadata": {
  "kernelspec": {
   "display_name": "Python 3 (ipykernel)",
   "language": "python",
   "name": "python3"
  },
  "language_info": {
   "codemirror_mode": {
    "name": "ipython",
    "version": 3
   },
   "file_extension": ".py",
   "mimetype": "text/x-python",
   "name": "python",
   "nbconvert_exporter": "python",
   "pygments_lexer": "ipython3",
   "version": "3.12.7"
  }
 },
 "nbformat": 4,
 "nbformat_minor": 5
}
