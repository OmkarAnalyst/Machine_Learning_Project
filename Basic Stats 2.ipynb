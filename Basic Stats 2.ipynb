{
 "cells": [
  {
   "cell_type": "code",
   "execution_count": 1,
   "id": "af582b8e-f1ad-47c5-ba23-c0ceb0704e97",
   "metadata": {},
   "outputs": [
    {
     "name": "stdout",
     "output_type": "stream",
     "text": [
      "99% CI (using sample std dev): (1.090, 1.387)\n"
     ]
    }
   ],
   "source": [
    "import numpy as np\n",
    "from scipy import stats\n",
    "\n",
    "# Data\n",
    "data = [1.13, 1.55, 1.43, 0.92, 1.25, 1.36, 1.32, 0.85, 1.07,\n",
    "        1.48, 1.20, 1.33, 1.18, 1.22, 1.29]\n",
    "\n",
    "# Parameters\n",
    "n = len(data)\n",
    "mean = np.mean(data)\n",
    "std_dev = np.std(data, ddof=1)  # Sample standard deviation\n",
    "t_critical = stats.t.ppf(0.995, df=n-1)\n",
    "\n",
    "# Margin of error\n",
    "margin_error = t_critical * (std_dev / np.sqrt(n))\n",
    "\n",
    "# Confidence Interval\n",
    "ci_lower = mean - margin_error\n",
    "ci_upper = mean + margin_error\n",
    "\n",
    "print(f\"99% CI (using sample std dev): ({ci_lower:.3f}, {ci_upper:.3f})\")\n"
   ]
  },
  {
   "cell_type": "code",
   "execution_count": 2,
   "id": "d9a8d7d4-db61-41f5-badc-889c9ca9d63b",
   "metadata": {},
   "outputs": [
    {
     "name": "stdout",
     "output_type": "stream",
     "text": [
      "99% CI (using known population std dev): (1.106, 1.372)\n"
     ]
    }
   ],
   "source": [
    "pop_std_dev = 0.2\n",
    "z_critical = stats.norm.ppf(0.995)\n",
    "\n",
    "# Margin of error\n",
    "margin_error_known = z_critical * (pop_std_dev / np.sqrt(n))\n",
    "\n",
    "# Confidence Interval\n",
    "ci_lower_known = mean - margin_error_known\n",
    "ci_upper_known = mean + margin_error_known\n",
    "\n",
    "print(f\"99% CI (using known population std dev): ({ci_lower_known:.3f}, {ci_upper_known:.3f})\")"
   ]
  },
  {
   "cell_type": "code",
   "execution_count": null,
   "id": "70c1c9a0-dd27-4ac2-a066-47a5ea368233",
   "metadata": {},
   "outputs": [],
   "source": []
  }
 ],
 "metadata": {
  "kernelspec": {
   "display_name": "Python 3 (ipykernel)",
   "language": "python",
   "name": "python3"
  },
  "language_info": {
   "codemirror_mode": {
    "name": "ipython",
    "version": 3
   },
   "file_extension": ".py",
   "mimetype": "text/x-python",
   "name": "python",
   "nbconvert_exporter": "python",
   "pygments_lexer": "ipython3",
   "version": "3.12.7"
  }
 },
 "nbformat": 4,
 "nbformat_minor": 5
}
