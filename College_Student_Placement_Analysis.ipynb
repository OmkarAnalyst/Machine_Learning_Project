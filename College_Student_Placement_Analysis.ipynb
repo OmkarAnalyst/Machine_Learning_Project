{
 "cells": [
  {
   "cell_type": "code",
   "execution_count": 2,
   "id": "1ab2384b",
   "metadata": {},
   "outputs": [
    {
     "name": "stdout",
     "output_type": "stream",
     "text": [
      "Collecting pandas\n",
      "  Downloading pandas-2.3.1-cp311-cp311-win_amd64.whl.metadata (19 kB)\n",
      "Collecting numpy>=1.23.2 (from pandas)\n",
      "  Downloading numpy-2.3.1-cp311-cp311-win_amd64.whl.metadata (60 kB)\n",
      "     ---------------------------------------- 0.0/60.9 kB ? eta -:--:--\n",
      "     ---------------------------------------- 0.0/60.9 kB ? eta -:--:--\n",
      "     ------ --------------------------------- 10.2/60.9 kB ? eta -:--:--\n",
      "     ------------------- ------------------ 30.7/60.9 kB 435.7 kB/s eta 0:00:01\n",
      "     -------------------------------------- 60.9/60.9 kB 405.2 kB/s eta 0:00:00\n",
      "Requirement already satisfied: python-dateutil>=2.8.2 in c:\\users\\acer\\appdata\\local\\packages\\pythonsoftwarefoundation.python.3.11_qbz5n2kfra8p0\\localcache\\local-packages\\python311\\site-packages (from pandas) (2.9.0.post0)\n",
      "Collecting pytz>=2020.1 (from pandas)\n",
      "  Downloading pytz-2025.2-py2.py3-none-any.whl.metadata (22 kB)\n",
      "Collecting tzdata>=2022.7 (from pandas)\n",
      "  Downloading tzdata-2025.2-py2.py3-none-any.whl.metadata (1.4 kB)\n",
      "Requirement already satisfied: six>=1.5 in c:\\users\\acer\\appdata\\local\\packages\\pythonsoftwarefoundation.python.3.11_qbz5n2kfra8p0\\localcache\\local-packages\\python311\\site-packages (from python-dateutil>=2.8.2->pandas) (1.17.0)\n",
      "Downloading pandas-2.3.1-cp311-cp311-win_amd64.whl (11.3 MB)\n",
      "   ---------------------------------------- 0.0/11.3 MB ? eta -:--:--\n",
      "   ---------------------------------------- 0.1/11.3 MB 3.5 MB/s eta 0:00:04\n",
      "   - -------------------------------------- 0.5/11.3 MB 6.3 MB/s eta 0:00:02\n",
      "   --- ------------------------------------ 1.1/11.3 MB 7.6 MB/s eta 0:00:02\n",
      "   ------- -------------------------------- 2.2/11.3 MB 11.8 MB/s eta 0:00:01\n",
      "   ------------ --------------------------- 3.5/11.3 MB 14.0 MB/s eta 0:00:01\n",
      "   ----------------- ---------------------- 4.9/11.3 MB 16.3 MB/s eta 0:00:01\n",
      "   ---------------------- ----------------- 6.4/11.3 MB 17.8 MB/s eta 0:00:01\n",
      "   -------------------------- ------------- 7.4/11.3 MB 18.2 MB/s eta 0:00:01\n",
      "   ----------------------------- ---------- 8.4/11.3 MB 18.6 MB/s eta 0:00:01\n",
      "   ----------------------------------- ---- 10.0/11.3 MB 19.4 MB/s eta 0:00:01\n",
      "   ---------------------------------------  11.3/11.3 MB 26.2 MB/s eta 0:00:01\n",
      "   ---------------------------------------  11.3/11.3 MB 26.2 MB/s eta 0:00:01\n",
      "   ---------------------------------------- 11.3/11.3 MB 21.8 MB/s eta 0:00:00\n",
      "Downloading numpy-2.3.1-cp311-cp311-win_amd64.whl (13.0 MB)\n",
      "   ---------------------------------------- 0.0/13.0 MB ? eta -:--:--\n",
      "   ---- ----------------------------------- 1.4/13.0 MB 43.6 MB/s eta 0:00:01\n",
      "   ------- -------------------------------- 2.5/13.0 MB 32.2 MB/s eta 0:00:01\n",
      "   ----------- ---------------------------- 3.8/13.0 MB 26.8 MB/s eta 0:00:01\n",
      "   --------------- ------------------------ 4.9/13.0 MB 26.2 MB/s eta 0:00:01\n",
      "   ------------------ --------------------- 5.9/13.0 MB 25.0 MB/s eta 0:00:01\n",
      "   --------------------- ------------------ 7.1/13.0 MB 24.0 MB/s eta 0:00:01\n",
      "   ------------------------- -------------- 8.2/13.0 MB 24.9 MB/s eta 0:00:01\n",
      "   ----------------------------- ---------- 9.6/13.0 MB 24.6 MB/s eta 0:00:01\n",
      "   ---------------------------------- ----- 11.3/13.0 MB 25.2 MB/s eta 0:00:01\n",
      "   ---------------------------------------  12.8/13.0 MB 26.2 MB/s eta 0:00:01\n",
      "   ---------------------------------------  13.0/13.0 MB 25.2 MB/s eta 0:00:01\n",
      "   ---------------------------------------  13.0/13.0 MB 25.2 MB/s eta 0:00:01\n",
      "   ---------------------------------------  13.0/13.0 MB 25.2 MB/s eta 0:00:01\n",
      "   ---------------------------------------  13.0/13.0 MB 25.2 MB/s eta 0:00:01\n",
      "   ---------------------------------------- 13.0/13.0 MB 16.4 MB/s eta 0:00:00\n",
      "Downloading pytz-2025.2-py2.py3-none-any.whl (509 kB)\n",
      "   ---------------------------------------- 0.0/509.2 kB ? eta -:--:--\n",
      "   --------------------------------------  501.8/509.2 kB 30.7 MB/s eta 0:00:01\n",
      "   ---------------------------------------- 509.2/509.2 kB 8.0 MB/s eta 0:00:00\n",
      "Downloading tzdata-2025.2-py2.py3-none-any.whl (347 kB)\n",
      "   ---------------------------------------- 0.0/347.8 kB ? eta -:--:--\n",
      "   -------------------------------------- - 337.9/347.8 kB ? eta -:--:--\n",
      "   ---------------------------------------- 347.8/347.8 kB 5.4 MB/s eta 0:00:00\n",
      "Installing collected packages: pytz, tzdata, numpy, pandas\n",
      "Successfully installed numpy-2.3.1 pandas-2.3.1 pytz-2025.2 tzdata-2025.2\n",
      "Note: you may need to restart the kernel to use updated packages.\n"
     ]
    },
    {
     "name": "stderr",
     "output_type": "stream",
     "text": [
      "\n",
      "[notice] A new release of pip is available: 24.0 -> 25.1.1\n",
      "[notice] To update, run: C:\\Users\\Acer\\AppData\\Local\\Microsoft\\WindowsApps\\PythonSoftwareFoundation.Python.3.11_qbz5n2kfra8p0\\python.exe -m pip install --upgrade pip\n"
     ]
    }
   ],
   "source": [
    "pip install pandas"
   ]
  },
  {
   "cell_type": "code",
   "execution_count": 3,
   "id": "0a6ef23a",
   "metadata": {},
   "outputs": [],
   "source": [
    "import pandas as pd"
   ]
  },
  {
   "cell_type": "code",
   "execution_count": 4,
   "id": "8425ba9b",
   "metadata": {},
   "outputs": [],
   "source": [
    "df = pd.read_csv(\"college_student_placement_dataset.csv\")"
   ]
  },
  {
   "cell_type": "code",
   "execution_count": 5,
   "id": "2da59283",
   "metadata": {},
   "outputs": [
    {
     "data": {
      "text/html": [
       "<div>\n",
       "<style scoped>\n",
       "    .dataframe tbody tr th:only-of-type {\n",
       "        vertical-align: middle;\n",
       "    }\n",
       "\n",
       "    .dataframe tbody tr th {\n",
       "        vertical-align: top;\n",
       "    }\n",
       "\n",
       "    .dataframe thead th {\n",
       "        text-align: right;\n",
       "    }\n",
       "</style>\n",
       "<table border=\"1\" class=\"dataframe\">\n",
       "  <thead>\n",
       "    <tr style=\"text-align: right;\">\n",
       "      <th></th>\n",
       "      <th>College_ID</th>\n",
       "      <th>IQ</th>\n",
       "      <th>Prev_Sem_Result</th>\n",
       "      <th>CGPA</th>\n",
       "      <th>Academic_Performance</th>\n",
       "      <th>Internship_Experience</th>\n",
       "      <th>Extra_Curricular_Score</th>\n",
       "      <th>Communication_Skills</th>\n",
       "      <th>Projects_Completed</th>\n",
       "      <th>Placement</th>\n",
       "    </tr>\n",
       "  </thead>\n",
       "  <tbody>\n",
       "    <tr>\n",
       "      <th>0</th>\n",
       "      <td>CLG0030</td>\n",
       "      <td>107</td>\n",
       "      <td>6.61</td>\n",
       "      <td>6.28</td>\n",
       "      <td>8</td>\n",
       "      <td>No</td>\n",
       "      <td>8</td>\n",
       "      <td>8</td>\n",
       "      <td>4</td>\n",
       "      <td>No</td>\n",
       "    </tr>\n",
       "    <tr>\n",
       "      <th>1</th>\n",
       "      <td>CLG0061</td>\n",
       "      <td>97</td>\n",
       "      <td>5.52</td>\n",
       "      <td>5.37</td>\n",
       "      <td>8</td>\n",
       "      <td>No</td>\n",
       "      <td>7</td>\n",
       "      <td>8</td>\n",
       "      <td>0</td>\n",
       "      <td>No</td>\n",
       "    </tr>\n",
       "    <tr>\n",
       "      <th>2</th>\n",
       "      <td>CLG0036</td>\n",
       "      <td>109</td>\n",
       "      <td>5.36</td>\n",
       "      <td>5.83</td>\n",
       "      <td>9</td>\n",
       "      <td>No</td>\n",
       "      <td>3</td>\n",
       "      <td>1</td>\n",
       "      <td>1</td>\n",
       "      <td>No</td>\n",
       "    </tr>\n",
       "    <tr>\n",
       "      <th>3</th>\n",
       "      <td>CLG0055</td>\n",
       "      <td>122</td>\n",
       "      <td>5.47</td>\n",
       "      <td>5.75</td>\n",
       "      <td>6</td>\n",
       "      <td>Yes</td>\n",
       "      <td>1</td>\n",
       "      <td>6</td>\n",
       "      <td>1</td>\n",
       "      <td>No</td>\n",
       "    </tr>\n",
       "    <tr>\n",
       "      <th>4</th>\n",
       "      <td>CLG0004</td>\n",
       "      <td>96</td>\n",
       "      <td>7.91</td>\n",
       "      <td>7.69</td>\n",
       "      <td>7</td>\n",
       "      <td>No</td>\n",
       "      <td>8</td>\n",
       "      <td>10</td>\n",
       "      <td>2</td>\n",
       "      <td>No</td>\n",
       "    </tr>\n",
       "    <tr>\n",
       "      <th>...</th>\n",
       "      <td>...</td>\n",
       "      <td>...</td>\n",
       "      <td>...</td>\n",
       "      <td>...</td>\n",
       "      <td>...</td>\n",
       "      <td>...</td>\n",
       "      <td>...</td>\n",
       "      <td>...</td>\n",
       "      <td>...</td>\n",
       "      <td>...</td>\n",
       "    </tr>\n",
       "    <tr>\n",
       "      <th>9995</th>\n",
       "      <td>CLG0021</td>\n",
       "      <td>119</td>\n",
       "      <td>8.41</td>\n",
       "      <td>8.29</td>\n",
       "      <td>4</td>\n",
       "      <td>No</td>\n",
       "      <td>1</td>\n",
       "      <td>8</td>\n",
       "      <td>0</td>\n",
       "      <td>Yes</td>\n",
       "    </tr>\n",
       "    <tr>\n",
       "      <th>9996</th>\n",
       "      <td>CLG0098</td>\n",
       "      <td>70</td>\n",
       "      <td>9.25</td>\n",
       "      <td>9.34</td>\n",
       "      <td>7</td>\n",
       "      <td>No</td>\n",
       "      <td>0</td>\n",
       "      <td>7</td>\n",
       "      <td>2</td>\n",
       "      <td>No</td>\n",
       "    </tr>\n",
       "    <tr>\n",
       "      <th>9997</th>\n",
       "      <td>CLG0066</td>\n",
       "      <td>89</td>\n",
       "      <td>6.08</td>\n",
       "      <td>6.25</td>\n",
       "      <td>3</td>\n",
       "      <td>Yes</td>\n",
       "      <td>3</td>\n",
       "      <td>9</td>\n",
       "      <td>5</td>\n",
       "      <td>No</td>\n",
       "    </tr>\n",
       "    <tr>\n",
       "      <th>9998</th>\n",
       "      <td>CLG0045</td>\n",
       "      <td>107</td>\n",
       "      <td>8.77</td>\n",
       "      <td>8.92</td>\n",
       "      <td>3</td>\n",
       "      <td>No</td>\n",
       "      <td>7</td>\n",
       "      <td>5</td>\n",
       "      <td>1</td>\n",
       "      <td>No</td>\n",
       "    </tr>\n",
       "    <tr>\n",
       "      <th>9999</th>\n",
       "      <td>CLG0060</td>\n",
       "      <td>109</td>\n",
       "      <td>9.41</td>\n",
       "      <td>9.77</td>\n",
       "      <td>8</td>\n",
       "      <td>No</td>\n",
       "      <td>3</td>\n",
       "      <td>5</td>\n",
       "      <td>5</td>\n",
       "      <td>No</td>\n",
       "    </tr>\n",
       "  </tbody>\n",
       "</table>\n",
       "<p>10000 rows × 10 columns</p>\n",
       "</div>"
      ],
      "text/plain": [
       "     College_ID   IQ  Prev_Sem_Result  CGPA  Academic_Performance  \\\n",
       "0       CLG0030  107             6.61  6.28                     8   \n",
       "1       CLG0061   97             5.52  5.37                     8   \n",
       "2       CLG0036  109             5.36  5.83                     9   \n",
       "3       CLG0055  122             5.47  5.75                     6   \n",
       "4       CLG0004   96             7.91  7.69                     7   \n",
       "...         ...  ...              ...   ...                   ...   \n",
       "9995    CLG0021  119             8.41  8.29                     4   \n",
       "9996    CLG0098   70             9.25  9.34                     7   \n",
       "9997    CLG0066   89             6.08  6.25                     3   \n",
       "9998    CLG0045  107             8.77  8.92                     3   \n",
       "9999    CLG0060  109             9.41  9.77                     8   \n",
       "\n",
       "     Internship_Experience  Extra_Curricular_Score  Communication_Skills  \\\n",
       "0                       No                       8                     8   \n",
       "1                       No                       7                     8   \n",
       "2                       No                       3                     1   \n",
       "3                      Yes                       1                     6   \n",
       "4                       No                       8                    10   \n",
       "...                    ...                     ...                   ...   \n",
       "9995                    No                       1                     8   \n",
       "9996                    No                       0                     7   \n",
       "9997                   Yes                       3                     9   \n",
       "9998                    No                       7                     5   \n",
       "9999                    No                       3                     5   \n",
       "\n",
       "      Projects_Completed Placement  \n",
       "0                      4        No  \n",
       "1                      0        No  \n",
       "2                      1        No  \n",
       "3                      1        No  \n",
       "4                      2        No  \n",
       "...                  ...       ...  \n",
       "9995                   0       Yes  \n",
       "9996                   2        No  \n",
       "9997                   5        No  \n",
       "9998                   1        No  \n",
       "9999                   5        No  \n",
       "\n",
       "[10000 rows x 10 columns]"
      ]
     },
     "execution_count": 5,
     "metadata": {},
     "output_type": "execute_result"
    }
   ],
   "source": [
    "df"
   ]
  },
  {
   "cell_type": "code",
   "execution_count": 6,
   "id": "d34e45ac",
   "metadata": {},
   "outputs": [
    {
     "data": {
      "text/html": [
       "<div>\n",
       "<style scoped>\n",
       "    .dataframe tbody tr th:only-of-type {\n",
       "        vertical-align: middle;\n",
       "    }\n",
       "\n",
       "    .dataframe tbody tr th {\n",
       "        vertical-align: top;\n",
       "    }\n",
       "\n",
       "    .dataframe thead th {\n",
       "        text-align: right;\n",
       "    }\n",
       "</style>\n",
       "<table border=\"1\" class=\"dataframe\">\n",
       "  <thead>\n",
       "    <tr style=\"text-align: right;\">\n",
       "      <th></th>\n",
       "      <th>College_ID</th>\n",
       "      <th>IQ</th>\n",
       "      <th>Prev_Sem_Result</th>\n",
       "      <th>CGPA</th>\n",
       "      <th>Academic_Performance</th>\n",
       "      <th>Internship_Experience</th>\n",
       "      <th>Extra_Curricular_Score</th>\n",
       "      <th>Communication_Skills</th>\n",
       "      <th>Projects_Completed</th>\n",
       "      <th>Placement</th>\n",
       "    </tr>\n",
       "  </thead>\n",
       "  <tbody>\n",
       "    <tr>\n",
       "      <th>0</th>\n",
       "      <td>CLG0030</td>\n",
       "      <td>107</td>\n",
       "      <td>6.61</td>\n",
       "      <td>6.28</td>\n",
       "      <td>8</td>\n",
       "      <td>No</td>\n",
       "      <td>8</td>\n",
       "      <td>8</td>\n",
       "      <td>4</td>\n",
       "      <td>No</td>\n",
       "    </tr>\n",
       "    <tr>\n",
       "      <th>1</th>\n",
       "      <td>CLG0061</td>\n",
       "      <td>97</td>\n",
       "      <td>5.52</td>\n",
       "      <td>5.37</td>\n",
       "      <td>8</td>\n",
       "      <td>No</td>\n",
       "      <td>7</td>\n",
       "      <td>8</td>\n",
       "      <td>0</td>\n",
       "      <td>No</td>\n",
       "    </tr>\n",
       "    <tr>\n",
       "      <th>2</th>\n",
       "      <td>CLG0036</td>\n",
       "      <td>109</td>\n",
       "      <td>5.36</td>\n",
       "      <td>5.83</td>\n",
       "      <td>9</td>\n",
       "      <td>No</td>\n",
       "      <td>3</td>\n",
       "      <td>1</td>\n",
       "      <td>1</td>\n",
       "      <td>No</td>\n",
       "    </tr>\n",
       "    <tr>\n",
       "      <th>3</th>\n",
       "      <td>CLG0055</td>\n",
       "      <td>122</td>\n",
       "      <td>5.47</td>\n",
       "      <td>5.75</td>\n",
       "      <td>6</td>\n",
       "      <td>Yes</td>\n",
       "      <td>1</td>\n",
       "      <td>6</td>\n",
       "      <td>1</td>\n",
       "      <td>No</td>\n",
       "    </tr>\n",
       "    <tr>\n",
       "      <th>4</th>\n",
       "      <td>CLG0004</td>\n",
       "      <td>96</td>\n",
       "      <td>7.91</td>\n",
       "      <td>7.69</td>\n",
       "      <td>7</td>\n",
       "      <td>No</td>\n",
       "      <td>8</td>\n",
       "      <td>10</td>\n",
       "      <td>2</td>\n",
       "      <td>No</td>\n",
       "    </tr>\n",
       "  </tbody>\n",
       "</table>\n",
       "</div>"
      ],
      "text/plain": [
       "  College_ID   IQ  Prev_Sem_Result  CGPA  Academic_Performance  \\\n",
       "0    CLG0030  107             6.61  6.28                     8   \n",
       "1    CLG0061   97             5.52  5.37                     8   \n",
       "2    CLG0036  109             5.36  5.83                     9   \n",
       "3    CLG0055  122             5.47  5.75                     6   \n",
       "4    CLG0004   96             7.91  7.69                     7   \n",
       "\n",
       "  Internship_Experience  Extra_Curricular_Score  Communication_Skills  \\\n",
       "0                    No                       8                     8   \n",
       "1                    No                       7                     8   \n",
       "2                    No                       3                     1   \n",
       "3                   Yes                       1                     6   \n",
       "4                    No                       8                    10   \n",
       "\n",
       "   Projects_Completed Placement  \n",
       "0                   4        No  \n",
       "1                   0        No  \n",
       "2                   1        No  \n",
       "3                   1        No  \n",
       "4                   2        No  "
      ]
     },
     "execution_count": 6,
     "metadata": {},
     "output_type": "execute_result"
    }
   ],
   "source": [
    "df.head()"
   ]
  },
  {
   "cell_type": "code",
   "execution_count": 7,
   "id": "48dd4e25",
   "metadata": {},
   "outputs": [
    {
     "data": {
      "text/html": [
       "<div>\n",
       "<style scoped>\n",
       "    .dataframe tbody tr th:only-of-type {\n",
       "        vertical-align: middle;\n",
       "    }\n",
       "\n",
       "    .dataframe tbody tr th {\n",
       "        vertical-align: top;\n",
       "    }\n",
       "\n",
       "    .dataframe thead th {\n",
       "        text-align: right;\n",
       "    }\n",
       "</style>\n",
       "<table border=\"1\" class=\"dataframe\">\n",
       "  <thead>\n",
       "    <tr style=\"text-align: right;\">\n",
       "      <th></th>\n",
       "      <th>College_ID</th>\n",
       "      <th>IQ</th>\n",
       "      <th>Prev_Sem_Result</th>\n",
       "      <th>CGPA</th>\n",
       "      <th>Academic_Performance</th>\n",
       "      <th>Internship_Experience</th>\n",
       "      <th>Extra_Curricular_Score</th>\n",
       "      <th>Communication_Skills</th>\n",
       "      <th>Projects_Completed</th>\n",
       "      <th>Placement</th>\n",
       "    </tr>\n",
       "  </thead>\n",
       "  <tbody>\n",
       "    <tr>\n",
       "      <th>9995</th>\n",
       "      <td>CLG0021</td>\n",
       "      <td>119</td>\n",
       "      <td>8.41</td>\n",
       "      <td>8.29</td>\n",
       "      <td>4</td>\n",
       "      <td>No</td>\n",
       "      <td>1</td>\n",
       "      <td>8</td>\n",
       "      <td>0</td>\n",
       "      <td>Yes</td>\n",
       "    </tr>\n",
       "    <tr>\n",
       "      <th>9996</th>\n",
       "      <td>CLG0098</td>\n",
       "      <td>70</td>\n",
       "      <td>9.25</td>\n",
       "      <td>9.34</td>\n",
       "      <td>7</td>\n",
       "      <td>No</td>\n",
       "      <td>0</td>\n",
       "      <td>7</td>\n",
       "      <td>2</td>\n",
       "      <td>No</td>\n",
       "    </tr>\n",
       "    <tr>\n",
       "      <th>9997</th>\n",
       "      <td>CLG0066</td>\n",
       "      <td>89</td>\n",
       "      <td>6.08</td>\n",
       "      <td>6.25</td>\n",
       "      <td>3</td>\n",
       "      <td>Yes</td>\n",
       "      <td>3</td>\n",
       "      <td>9</td>\n",
       "      <td>5</td>\n",
       "      <td>No</td>\n",
       "    </tr>\n",
       "    <tr>\n",
       "      <th>9998</th>\n",
       "      <td>CLG0045</td>\n",
       "      <td>107</td>\n",
       "      <td>8.77</td>\n",
       "      <td>8.92</td>\n",
       "      <td>3</td>\n",
       "      <td>No</td>\n",
       "      <td>7</td>\n",
       "      <td>5</td>\n",
       "      <td>1</td>\n",
       "      <td>No</td>\n",
       "    </tr>\n",
       "    <tr>\n",
       "      <th>9999</th>\n",
       "      <td>CLG0060</td>\n",
       "      <td>109</td>\n",
       "      <td>9.41</td>\n",
       "      <td>9.77</td>\n",
       "      <td>8</td>\n",
       "      <td>No</td>\n",
       "      <td>3</td>\n",
       "      <td>5</td>\n",
       "      <td>5</td>\n",
       "      <td>No</td>\n",
       "    </tr>\n",
       "  </tbody>\n",
       "</table>\n",
       "</div>"
      ],
      "text/plain": [
       "     College_ID   IQ  Prev_Sem_Result  CGPA  Academic_Performance  \\\n",
       "9995    CLG0021  119             8.41  8.29                     4   \n",
       "9996    CLG0098   70             9.25  9.34                     7   \n",
       "9997    CLG0066   89             6.08  6.25                     3   \n",
       "9998    CLG0045  107             8.77  8.92                     3   \n",
       "9999    CLG0060  109             9.41  9.77                     8   \n",
       "\n",
       "     Internship_Experience  Extra_Curricular_Score  Communication_Skills  \\\n",
       "9995                    No                       1                     8   \n",
       "9996                    No                       0                     7   \n",
       "9997                   Yes                       3                     9   \n",
       "9998                    No                       7                     5   \n",
       "9999                    No                       3                     5   \n",
       "\n",
       "      Projects_Completed Placement  \n",
       "9995                   0       Yes  \n",
       "9996                   2        No  \n",
       "9997                   5        No  \n",
       "9998                   1        No  \n",
       "9999                   5        No  "
      ]
     },
     "execution_count": 7,
     "metadata": {},
     "output_type": "execute_result"
    }
   ],
   "source": [
    "df.tail()"
   ]
  },
  {
   "cell_type": "code",
   "execution_count": 8,
   "id": "71d25af2",
   "metadata": {},
   "outputs": [
    {
     "data": {
      "text/html": [
       "<div>\n",
       "<style scoped>\n",
       "    .dataframe tbody tr th:only-of-type {\n",
       "        vertical-align: middle;\n",
       "    }\n",
       "\n",
       "    .dataframe tbody tr th {\n",
       "        vertical-align: top;\n",
       "    }\n",
       "\n",
       "    .dataframe thead th {\n",
       "        text-align: right;\n",
       "    }\n",
       "</style>\n",
       "<table border=\"1\" class=\"dataframe\">\n",
       "  <thead>\n",
       "    <tr style=\"text-align: right;\">\n",
       "      <th></th>\n",
       "      <th>College_ID</th>\n",
       "      <th>IQ</th>\n",
       "      <th>Prev_Sem_Result</th>\n",
       "      <th>CGPA</th>\n",
       "      <th>Academic_Performance</th>\n",
       "      <th>Internship_Experience</th>\n",
       "      <th>Extra_Curricular_Score</th>\n",
       "      <th>Communication_Skills</th>\n",
       "      <th>Projects_Completed</th>\n",
       "      <th>Placement</th>\n",
       "    </tr>\n",
       "  </thead>\n",
       "  <tbody>\n",
       "    <tr>\n",
       "      <th>0</th>\n",
       "      <td>False</td>\n",
       "      <td>False</td>\n",
       "      <td>False</td>\n",
       "      <td>False</td>\n",
       "      <td>False</td>\n",
       "      <td>False</td>\n",
       "      <td>False</td>\n",
       "      <td>False</td>\n",
       "      <td>False</td>\n",
       "      <td>False</td>\n",
       "    </tr>\n",
       "    <tr>\n",
       "      <th>1</th>\n",
       "      <td>False</td>\n",
       "      <td>False</td>\n",
       "      <td>False</td>\n",
       "      <td>False</td>\n",
       "      <td>False</td>\n",
       "      <td>False</td>\n",
       "      <td>False</td>\n",
       "      <td>False</td>\n",
       "      <td>False</td>\n",
       "      <td>False</td>\n",
       "    </tr>\n",
       "    <tr>\n",
       "      <th>2</th>\n",
       "      <td>False</td>\n",
       "      <td>False</td>\n",
       "      <td>False</td>\n",
       "      <td>False</td>\n",
       "      <td>False</td>\n",
       "      <td>False</td>\n",
       "      <td>False</td>\n",
       "      <td>False</td>\n",
       "      <td>False</td>\n",
       "      <td>False</td>\n",
       "    </tr>\n",
       "    <tr>\n",
       "      <th>3</th>\n",
       "      <td>False</td>\n",
       "      <td>False</td>\n",
       "      <td>False</td>\n",
       "      <td>False</td>\n",
       "      <td>False</td>\n",
       "      <td>False</td>\n",
       "      <td>False</td>\n",
       "      <td>False</td>\n",
       "      <td>False</td>\n",
       "      <td>False</td>\n",
       "    </tr>\n",
       "    <tr>\n",
       "      <th>4</th>\n",
       "      <td>False</td>\n",
       "      <td>False</td>\n",
       "      <td>False</td>\n",
       "      <td>False</td>\n",
       "      <td>False</td>\n",
       "      <td>False</td>\n",
       "      <td>False</td>\n",
       "      <td>False</td>\n",
       "      <td>False</td>\n",
       "      <td>False</td>\n",
       "    </tr>\n",
       "    <tr>\n",
       "      <th>...</th>\n",
       "      <td>...</td>\n",
       "      <td>...</td>\n",
       "      <td>...</td>\n",
       "      <td>...</td>\n",
       "      <td>...</td>\n",
       "      <td>...</td>\n",
       "      <td>...</td>\n",
       "      <td>...</td>\n",
       "      <td>...</td>\n",
       "      <td>...</td>\n",
       "    </tr>\n",
       "    <tr>\n",
       "      <th>9995</th>\n",
       "      <td>False</td>\n",
       "      <td>False</td>\n",
       "      <td>False</td>\n",
       "      <td>False</td>\n",
       "      <td>False</td>\n",
       "      <td>False</td>\n",
       "      <td>False</td>\n",
       "      <td>False</td>\n",
       "      <td>False</td>\n",
       "      <td>False</td>\n",
       "    </tr>\n",
       "    <tr>\n",
       "      <th>9996</th>\n",
       "      <td>False</td>\n",
       "      <td>False</td>\n",
       "      <td>False</td>\n",
       "      <td>False</td>\n",
       "      <td>False</td>\n",
       "      <td>False</td>\n",
       "      <td>False</td>\n",
       "      <td>False</td>\n",
       "      <td>False</td>\n",
       "      <td>False</td>\n",
       "    </tr>\n",
       "    <tr>\n",
       "      <th>9997</th>\n",
       "      <td>False</td>\n",
       "      <td>False</td>\n",
       "      <td>False</td>\n",
       "      <td>False</td>\n",
       "      <td>False</td>\n",
       "      <td>False</td>\n",
       "      <td>False</td>\n",
       "      <td>False</td>\n",
       "      <td>False</td>\n",
       "      <td>False</td>\n",
       "    </tr>\n",
       "    <tr>\n",
       "      <th>9998</th>\n",
       "      <td>False</td>\n",
       "      <td>False</td>\n",
       "      <td>False</td>\n",
       "      <td>False</td>\n",
       "      <td>False</td>\n",
       "      <td>False</td>\n",
       "      <td>False</td>\n",
       "      <td>False</td>\n",
       "      <td>False</td>\n",
       "      <td>False</td>\n",
       "    </tr>\n",
       "    <tr>\n",
       "      <th>9999</th>\n",
       "      <td>False</td>\n",
       "      <td>False</td>\n",
       "      <td>False</td>\n",
       "      <td>False</td>\n",
       "      <td>False</td>\n",
       "      <td>False</td>\n",
       "      <td>False</td>\n",
       "      <td>False</td>\n",
       "      <td>False</td>\n",
       "      <td>False</td>\n",
       "    </tr>\n",
       "  </tbody>\n",
       "</table>\n",
       "<p>10000 rows × 10 columns</p>\n",
       "</div>"
      ],
      "text/plain": [
       "      College_ID     IQ  Prev_Sem_Result   CGPA  Academic_Performance  \\\n",
       "0          False  False            False  False                 False   \n",
       "1          False  False            False  False                 False   \n",
       "2          False  False            False  False                 False   \n",
       "3          False  False            False  False                 False   \n",
       "4          False  False            False  False                 False   \n",
       "...          ...    ...              ...    ...                   ...   \n",
       "9995       False  False            False  False                 False   \n",
       "9996       False  False            False  False                 False   \n",
       "9997       False  False            False  False                 False   \n",
       "9998       False  False            False  False                 False   \n",
       "9999       False  False            False  False                 False   \n",
       "\n",
       "      Internship_Experience  Extra_Curricular_Score  Communication_Skills  \\\n",
       "0                     False                   False                 False   \n",
       "1                     False                   False                 False   \n",
       "2                     False                   False                 False   \n",
       "3                     False                   False                 False   \n",
       "4                     False                   False                 False   \n",
       "...                     ...                     ...                   ...   \n",
       "9995                  False                   False                 False   \n",
       "9996                  False                   False                 False   \n",
       "9997                  False                   False                 False   \n",
       "9998                  False                   False                 False   \n",
       "9999                  False                   False                 False   \n",
       "\n",
       "      Projects_Completed  Placement  \n",
       "0                  False      False  \n",
       "1                  False      False  \n",
       "2                  False      False  \n",
       "3                  False      False  \n",
       "4                  False      False  \n",
       "...                  ...        ...  \n",
       "9995               False      False  \n",
       "9996               False      False  \n",
       "9997               False      False  \n",
       "9998               False      False  \n",
       "9999               False      False  \n",
       "\n",
       "[10000 rows x 10 columns]"
      ]
     },
     "execution_count": 8,
     "metadata": {},
     "output_type": "execute_result"
    }
   ],
   "source": [
    "df.isnull()"
   ]
  },
  {
   "cell_type": "code",
   "execution_count": 9,
   "id": "67390833",
   "metadata": {},
   "outputs": [
    {
     "data": {
      "text/plain": [
       "College_ID                10000\n",
       "IQ                        10000\n",
       "Prev_Sem_Result           10000\n",
       "CGPA                      10000\n",
       "Academic_Performance      10000\n",
       "Internship_Experience     10000\n",
       "Extra_Curricular_Score    10000\n",
       "Communication_Skills      10000\n",
       "Projects_Completed        10000\n",
       "Placement                 10000\n",
       "dtype: int64"
      ]
     },
     "execution_count": 9,
     "metadata": {},
     "output_type": "execute_result"
    }
   ],
   "source": [
    "df.count()"
   ]
  },
  {
   "cell_type": "code",
   "execution_count": 10,
   "id": "3299e642",
   "metadata": {},
   "outputs": [
    {
     "data": {
      "text/plain": [
       "College_ID                10000\n",
       "IQ                        10000\n",
       "Prev_Sem_Result           10000\n",
       "CGPA                      10000\n",
       "Academic_Performance      10000\n",
       "Internship_Experience     10000\n",
       "Extra_Curricular_Score    10000\n",
       "Communication_Skills      10000\n",
       "Projects_Completed        10000\n",
       "Placement                 10000\n",
       "dtype: int64"
      ]
     },
     "execution_count": 10,
     "metadata": {},
     "output_type": "execute_result"
    }
   ],
   "source": [
    "df.isnull().count()"
   ]
  },
  {
   "cell_type": "code",
   "execution_count": 11,
   "id": "1dc94e03",
   "metadata": {},
   "outputs": [
    {
     "name": "stdout",
     "output_type": "stream",
     "text": [
      "<class 'pandas.core.frame.DataFrame'>\n",
      "RangeIndex: 10000 entries, 0 to 9999\n",
      "Data columns (total 10 columns):\n",
      " #   Column                  Non-Null Count  Dtype  \n",
      "---  ------                  --------------  -----  \n",
      " 0   College_ID              10000 non-null  object \n",
      " 1   IQ                      10000 non-null  int64  \n",
      " 2   Prev_Sem_Result         10000 non-null  float64\n",
      " 3   CGPA                    10000 non-null  float64\n",
      " 4   Academic_Performance    10000 non-null  int64  \n",
      " 5   Internship_Experience   10000 non-null  object \n",
      " 6   Extra_Curricular_Score  10000 non-null  int64  \n",
      " 7   Communication_Skills    10000 non-null  int64  \n",
      " 8   Projects_Completed      10000 non-null  int64  \n",
      " 9   Placement               10000 non-null  object \n",
      "dtypes: float64(2), int64(5), object(3)\n",
      "memory usage: 781.4+ KB\n"
     ]
    }
   ],
   "source": [
    "df.info()"
   ]
  },
  {
   "cell_type": "code",
   "execution_count": 12,
   "id": "caad54ce",
   "metadata": {},
   "outputs": [
    {
     "data": {
      "text/html": [
       "<div>\n",
       "<style scoped>\n",
       "    .dataframe tbody tr th:only-of-type {\n",
       "        vertical-align: middle;\n",
       "    }\n",
       "\n",
       "    .dataframe tbody tr th {\n",
       "        vertical-align: top;\n",
       "    }\n",
       "\n",
       "    .dataframe thead th {\n",
       "        text-align: right;\n",
       "    }\n",
       "</style>\n",
       "<table border=\"1\" class=\"dataframe\">\n",
       "  <thead>\n",
       "    <tr style=\"text-align: right;\">\n",
       "      <th></th>\n",
       "      <th>IQ</th>\n",
       "      <th>Prev_Sem_Result</th>\n",
       "      <th>CGPA</th>\n",
       "      <th>Academic_Performance</th>\n",
       "      <th>Extra_Curricular_Score</th>\n",
       "      <th>Communication_Skills</th>\n",
       "      <th>Projects_Completed</th>\n",
       "    </tr>\n",
       "  </thead>\n",
       "  <tbody>\n",
       "    <tr>\n",
       "      <th>count</th>\n",
       "      <td>10000.000000</td>\n",
       "      <td>10000.000000</td>\n",
       "      <td>10000.000000</td>\n",
       "      <td>10000.000000</td>\n",
       "      <td>10000.000000</td>\n",
       "      <td>10000.000000</td>\n",
       "      <td>10000.000000</td>\n",
       "    </tr>\n",
       "    <tr>\n",
       "      <th>mean</th>\n",
       "      <td>99.471800</td>\n",
       "      <td>7.535673</td>\n",
       "      <td>7.532379</td>\n",
       "      <td>5.546400</td>\n",
       "      <td>4.970900</td>\n",
       "      <td>5.561800</td>\n",
       "      <td>2.513400</td>\n",
       "    </tr>\n",
       "    <tr>\n",
       "      <th>std</th>\n",
       "      <td>15.053101</td>\n",
       "      <td>1.447519</td>\n",
       "      <td>1.470141</td>\n",
       "      <td>2.873477</td>\n",
       "      <td>3.160103</td>\n",
       "      <td>2.900866</td>\n",
       "      <td>1.715959</td>\n",
       "    </tr>\n",
       "    <tr>\n",
       "      <th>min</th>\n",
       "      <td>41.000000</td>\n",
       "      <td>5.000000</td>\n",
       "      <td>4.540000</td>\n",
       "      <td>1.000000</td>\n",
       "      <td>0.000000</td>\n",
       "      <td>1.000000</td>\n",
       "      <td>0.000000</td>\n",
       "    </tr>\n",
       "    <tr>\n",
       "      <th>25%</th>\n",
       "      <td>89.000000</td>\n",
       "      <td>6.290000</td>\n",
       "      <td>6.290000</td>\n",
       "      <td>3.000000</td>\n",
       "      <td>2.000000</td>\n",
       "      <td>3.000000</td>\n",
       "      <td>1.000000</td>\n",
       "    </tr>\n",
       "    <tr>\n",
       "      <th>50%</th>\n",
       "      <td>99.000000</td>\n",
       "      <td>7.560000</td>\n",
       "      <td>7.550000</td>\n",
       "      <td>6.000000</td>\n",
       "      <td>5.000000</td>\n",
       "      <td>6.000000</td>\n",
       "      <td>3.000000</td>\n",
       "    </tr>\n",
       "    <tr>\n",
       "      <th>75%</th>\n",
       "      <td>110.000000</td>\n",
       "      <td>8.790000</td>\n",
       "      <td>8.770000</td>\n",
       "      <td>8.000000</td>\n",
       "      <td>8.000000</td>\n",
       "      <td>8.000000</td>\n",
       "      <td>4.000000</td>\n",
       "    </tr>\n",
       "    <tr>\n",
       "      <th>max</th>\n",
       "      <td>158.000000</td>\n",
       "      <td>10.000000</td>\n",
       "      <td>10.460000</td>\n",
       "      <td>10.000000</td>\n",
       "      <td>10.000000</td>\n",
       "      <td>10.000000</td>\n",
       "      <td>5.000000</td>\n",
       "    </tr>\n",
       "  </tbody>\n",
       "</table>\n",
       "</div>"
      ],
      "text/plain": [
       "                 IQ  Prev_Sem_Result          CGPA  Academic_Performance  \\\n",
       "count  10000.000000     10000.000000  10000.000000          10000.000000   \n",
       "mean      99.471800         7.535673      7.532379              5.546400   \n",
       "std       15.053101         1.447519      1.470141              2.873477   \n",
       "min       41.000000         5.000000      4.540000              1.000000   \n",
       "25%       89.000000         6.290000      6.290000              3.000000   \n",
       "50%       99.000000         7.560000      7.550000              6.000000   \n",
       "75%      110.000000         8.790000      8.770000              8.000000   \n",
       "max      158.000000        10.000000     10.460000             10.000000   \n",
       "\n",
       "       Extra_Curricular_Score  Communication_Skills  Projects_Completed  \n",
       "count            10000.000000          10000.000000        10000.000000  \n",
       "mean                 4.970900              5.561800            2.513400  \n",
       "std                  3.160103              2.900866            1.715959  \n",
       "min                  0.000000              1.000000            0.000000  \n",
       "25%                  2.000000              3.000000            1.000000  \n",
       "50%                  5.000000              6.000000            3.000000  \n",
       "75%                  8.000000              8.000000            4.000000  \n",
       "max                 10.000000             10.000000            5.000000  "
      ]
     },
     "execution_count": 12,
     "metadata": {},
     "output_type": "execute_result"
    }
   ],
   "source": [
    "df.describe()"
   ]
  },
  {
   "cell_type": "code",
   "execution_count": 19,
   "id": "fabb2abb",
   "metadata": {},
   "outputs": [
    {
     "name": "stdout",
     "output_type": "stream",
     "text": [
      "Collecting matplotlib\n",
      "  Downloading matplotlib-3.10.3-cp311-cp311-win_amd64.whl.metadata (11 kB)\n",
      "Collecting contourpy>=1.0.1 (from matplotlib)\n",
      "  Downloading contourpy-1.3.2-cp311-cp311-win_amd64.whl.metadata (5.5 kB)\n",
      "Collecting cycler>=0.10 (from matplotlib)\n",
      "  Downloading cycler-0.12.1-py3-none-any.whl.metadata (3.8 kB)\n",
      "Collecting fonttools>=4.22.0 (from matplotlib)\n",
      "  Downloading fonttools-4.59.0-cp311-cp311-win_amd64.whl.metadata (110 kB)\n",
      "     ---------------------------------------- 0.0/110.1 kB ? eta -:--:--\n",
      "     ---------------------------------------- 0.0/110.1 kB ? eta -:--:--\n",
      "     --- ------------------------------------ 10.2/110.1 kB ? eta -:--:--\n",
      "     --- ------------------------------------ 10.2/110.1 kB ? eta -:--:--\n",
      "     -------------------- ---------------- 61.4/110.1 kB 648.1 kB/s eta 0:00:01\n",
      "     ------------------------------------ 110.1/110.1 kB 707.9 kB/s eta 0:00:00\n",
      "Collecting kiwisolver>=1.3.1 (from matplotlib)\n",
      "  Downloading kiwisolver-1.4.8-cp311-cp311-win_amd64.whl.metadata (6.3 kB)\n",
      "Requirement already satisfied: numpy>=1.23 in c:\\users\\acer\\appdata\\local\\packages\\pythonsoftwarefoundation.python.3.11_qbz5n2kfra8p0\\localcache\\local-packages\\python311\\site-packages (from matplotlib) (2.3.1)\n",
      "Requirement already satisfied: packaging>=20.0 in c:\\users\\acer\\appdata\\local\\packages\\pythonsoftwarefoundation.python.3.11_qbz5n2kfra8p0\\localcache\\local-packages\\python311\\site-packages (from matplotlib) (25.0)\n",
      "Collecting pillow>=8 (from matplotlib)\n",
      "  Downloading pillow-11.3.0-cp311-cp311-win_amd64.whl.metadata (9.2 kB)\n",
      "Collecting pyparsing>=2.3.1 (from matplotlib)\n",
      "  Downloading pyparsing-3.2.3-py3-none-any.whl.metadata (5.0 kB)\n",
      "Requirement already satisfied: python-dateutil>=2.7 in c:\\users\\acer\\appdata\\local\\packages\\pythonsoftwarefoundation.python.3.11_qbz5n2kfra8p0\\localcache\\local-packages\\python311\\site-packages (from matplotlib) (2.9.0.post0)\n",
      "Requirement already satisfied: six>=1.5 in c:\\users\\acer\\appdata\\local\\packages\\pythonsoftwarefoundation.python.3.11_qbz5n2kfra8p0\\localcache\\local-packages\\python311\\site-packages (from python-dateutil>=2.7->matplotlib) (1.17.0)\n",
      "Downloading matplotlib-3.10.3-cp311-cp311-win_amd64.whl (8.1 MB)\n",
      "   ---------------------------------------- 0.0/8.1 MB ? eta -:--:--\n",
      "   - -------------------------------------- 0.2/8.1 MB 6.6 MB/s eta 0:00:02\n",
      "   -- ------------------------------------- 0.5/8.1 MB 6.7 MB/s eta 0:00:02\n",
      "   ---- ----------------------------------- 1.0/8.1 MB 8.9 MB/s eta 0:00:01\n",
      "   ------ --------------------------------- 1.3/8.1 MB 8.2 MB/s eta 0:00:01\n",
      "   -------- ------------------------------- 1.7/8.1 MB 8.3 MB/s eta 0:00:01\n",
      "   ----------- ---------------------------- 2.3/8.1 MB 8.7 MB/s eta 0:00:01\n",
      "   -------------- ------------------------- 2.9/8.1 MB 9.2 MB/s eta 0:00:01\n",
      "   ---------------- ----------------------- 3.3/8.1 MB 9.5 MB/s eta 0:00:01\n",
      "   ------------------ --------------------- 3.7/8.1 MB 9.6 MB/s eta 0:00:01\n",
      "   --------------------- ------------------ 4.4/8.1 MB 10.1 MB/s eta 0:00:01\n",
      "   ----------------------- ---------------- 4.7/8.1 MB 10.4 MB/s eta 0:00:01\n",
      "   -------------------------- ------------- 5.2/8.1 MB 9.6 MB/s eta 0:00:01\n",
      "   --------------------------- ------------ 5.5/8.1 MB 9.3 MB/s eta 0:00:01\n",
      "   ------------------------------- -------- 6.3/8.1 MB 9.6 MB/s eta 0:00:01\n",
      "   ---------------------------------- ----- 7.0/8.1 MB 9.7 MB/s eta 0:00:01\n",
      "   ------------------------------------- -- 7.6/8.1 MB 9.9 MB/s eta 0:00:01\n",
      "   ---------------------------------------  8.1/8.1 MB 9.9 MB/s eta 0:00:01\n",
      "   ---------------------------------------  8.1/8.1 MB 9.9 MB/s eta 0:00:01\n",
      "   ---------------------------------------- 8.1/8.1 MB 8.6 MB/s eta 0:00:00\n",
      "Downloading contourpy-1.3.2-cp311-cp311-win_amd64.whl (222 kB)\n",
      "   ---------------------------------------- 0.0/222.0 kB ? eta -:--:--\n",
      "   ---------------------------------------- 222.0/222.0 kB 6.8 MB/s eta 0:00:00\n",
      "Downloading cycler-0.12.1-py3-none-any.whl (8.3 kB)\n",
      "Downloading fonttools-4.59.0-cp311-cp311-win_amd64.whl (2.3 MB)\n",
      "   ---------------------------------------- 0.0/2.3 MB ? eta -:--:--\n",
      "   ------------ --------------------------- 0.7/2.3 MB 22.4 MB/s eta 0:00:01\n",
      "   ------------------------------ --------- 1.7/2.3 MB 18.1 MB/s eta 0:00:01\n",
      "   ---------------------------------------  2.3/2.3 MB 17.9 MB/s eta 0:00:01\n",
      "   ---------------------------------------- 2.3/2.3 MB 13.1 MB/s eta 0:00:00\n",
      "Downloading kiwisolver-1.4.8-cp311-cp311-win_amd64.whl (71 kB)\n",
      "   ---------------------------------------- 0.0/72.0 kB ? eta -:--:--\n",
      "   ---------------------------------------- 72.0/72.0 kB 2.0 MB/s eta 0:00:00\n",
      "Downloading pillow-11.3.0-cp311-cp311-win_amd64.whl (7.0 MB)\n",
      "   ---------------------------------------- 0.0/7.0 MB ? eta -:--:--\n",
      "   ------ --------------------------------- 1.1/7.0 MB 23.6 MB/s eta 0:00:01\n",
      "   ----------- ---------------------------- 2.1/7.0 MB 22.0 MB/s eta 0:00:01\n",
      "   ----------------- ---------------------- 3.1/7.0 MB 21.9 MB/s eta 0:00:01\n",
      "   ------------------------ --------------- 4.3/7.0 MB 22.9 MB/s eta 0:00:01\n",
      "   ---------------------------- ----------- 5.0/7.0 MB 20.1 MB/s eta 0:00:01\n",
      "   ----------------------------------- ---- 6.2/7.0 MB 20.9 MB/s eta 0:00:01\n",
      "   ---------------------------------------  7.0/7.0 MB 22.4 MB/s eta 0:00:01\n",
      "   ---------------------------------------- 7.0/7.0 MB 18.6 MB/s eta 0:00:00\n",
      "Downloading pyparsing-3.2.3-py3-none-any.whl (111 kB)\n",
      "   ---------------------------------------- 0.0/111.1 kB ? eta -:--:--\n",
      "   ---------------------------------------- 111.1/111.1 kB 3.2 MB/s eta 0:00:00\n",
      "Installing collected packages: pyparsing, pillow, kiwisolver, fonttools, cycler, contourpy, matplotlib\n",
      "Successfully installed contourpy-1.3.2 cycler-0.12.1 fonttools-4.59.0 kiwisolver-1.4.8 matplotlib-3.10.3 pillow-11.3.0 pyparsing-3.2.3\n",
      "Note: you may need to restart the kernel to use updated packages.\n"
     ]
    },
    {
     "name": "stderr",
     "output_type": "stream",
     "text": [
      "\n",
      "[notice] A new release of pip is available: 24.0 -> 25.1.1\n",
      "[notice] To update, run: C:\\Users\\Acer\\AppData\\Local\\Microsoft\\WindowsApps\\PythonSoftwareFoundation.Python.3.11_qbz5n2kfra8p0\\python.exe -m pip install --upgrade pip\n"
     ]
    }
   ],
   "source": [
    "pip install matplotlib\n"
   ]
  },
  {
   "cell_type": "code",
   "execution_count": 20,
   "id": "a3069c28",
   "metadata": {},
   "outputs": [
    {
     "name": "stderr",
     "output_type": "stream",
     "text": [
      "Matplotlib is building the font cache; this may take a moment.\n"
     ]
    }
   ],
   "source": [
    "import matplotlib.pyplot as plt"
   ]
  },
  {
   "cell_type": "code",
   "execution_count": 22,
   "id": "8a6879f6",
   "metadata": {},
   "outputs": [
    {
     "name": "stdout",
     "output_type": "stream",
     "text": [
      "Collecting seaborn\n",
      "  Downloading seaborn-0.13.2-py3-none-any.whl.metadata (5.4 kB)\n",
      "Requirement already satisfied: numpy!=1.24.0,>=1.20 in c:\\users\\acer\\appdata\\local\\packages\\pythonsoftwarefoundation.python.3.11_qbz5n2kfra8p0\\localcache\\local-packages\\python311\\site-packages (from seaborn) (2.3.1)\n",
      "Requirement already satisfied: pandas>=1.2 in c:\\users\\acer\\appdata\\local\\packages\\pythonsoftwarefoundation.python.3.11_qbz5n2kfra8p0\\localcache\\local-packages\\python311\\site-packages (from seaborn) (2.3.1)\n",
      "Requirement already satisfied: matplotlib!=3.6.1,>=3.4 in c:\\users\\acer\\appdata\\local\\packages\\pythonsoftwarefoundation.python.3.11_qbz5n2kfra8p0\\localcache\\local-packages\\python311\\site-packages (from seaborn) (3.10.3)\n",
      "Requirement already satisfied: contourpy>=1.0.1 in c:\\users\\acer\\appdata\\local\\packages\\pythonsoftwarefoundation.python.3.11_qbz5n2kfra8p0\\localcache\\local-packages\\python311\\site-packages (from matplotlib!=3.6.1,>=3.4->seaborn) (1.3.2)\n",
      "Requirement already satisfied: cycler>=0.10 in c:\\users\\acer\\appdata\\local\\packages\\pythonsoftwarefoundation.python.3.11_qbz5n2kfra8p0\\localcache\\local-packages\\python311\\site-packages (from matplotlib!=3.6.1,>=3.4->seaborn) (0.12.1)\n",
      "Requirement already satisfied: fonttools>=4.22.0 in c:\\users\\acer\\appdata\\local\\packages\\pythonsoftwarefoundation.python.3.11_qbz5n2kfra8p0\\localcache\\local-packages\\python311\\site-packages (from matplotlib!=3.6.1,>=3.4->seaborn) (4.59.0)\n",
      "Requirement already satisfied: kiwisolver>=1.3.1 in c:\\users\\acer\\appdata\\local\\packages\\pythonsoftwarefoundation.python.3.11_qbz5n2kfra8p0\\localcache\\local-packages\\python311\\site-packages (from matplotlib!=3.6.1,>=3.4->seaborn) (1.4.8)\n",
      "Requirement already satisfied: packaging>=20.0 in c:\\users\\acer\\appdata\\local\\packages\\pythonsoftwarefoundation.python.3.11_qbz5n2kfra8p0\\localcache\\local-packages\\python311\\site-packages (from matplotlib!=3.6.1,>=3.4->seaborn) (25.0)\n",
      "Requirement already satisfied: pillow>=8 in c:\\users\\acer\\appdata\\local\\packages\\pythonsoftwarefoundation.python.3.11_qbz5n2kfra8p0\\localcache\\local-packages\\python311\\site-packages (from matplotlib!=3.6.1,>=3.4->seaborn) (11.3.0)\n",
      "Requirement already satisfied: pyparsing>=2.3.1 in c:\\users\\acer\\appdata\\local\\packages\\pythonsoftwarefoundation.python.3.11_qbz5n2kfra8p0\\localcache\\local-packages\\python311\\site-packages (from matplotlib!=3.6.1,>=3.4->seaborn) (3.2.3)\n",
      "Requirement already satisfied: python-dateutil>=2.7 in c:\\users\\acer\\appdata\\local\\packages\\pythonsoftwarefoundation.python.3.11_qbz5n2kfra8p0\\localcache\\local-packages\\python311\\site-packages (from matplotlib!=3.6.1,>=3.4->seaborn) (2.9.0.post0)\n",
      "Requirement already satisfied: pytz>=2020.1 in c:\\users\\acer\\appdata\\local\\packages\\pythonsoftwarefoundation.python.3.11_qbz5n2kfra8p0\\localcache\\local-packages\\python311\\site-packages (from pandas>=1.2->seaborn) (2025.2)\n",
      "Requirement already satisfied: tzdata>=2022.7 in c:\\users\\acer\\appdata\\local\\packages\\pythonsoftwarefoundation.python.3.11_qbz5n2kfra8p0\\localcache\\local-packages\\python311\\site-packages (from pandas>=1.2->seaborn) (2025.2)\n",
      "Requirement already satisfied: six>=1.5 in c:\\users\\acer\\appdata\\local\\packages\\pythonsoftwarefoundation.python.3.11_qbz5n2kfra8p0\\localcache\\local-packages\\python311\\site-packages (from python-dateutil>=2.7->matplotlib!=3.6.1,>=3.4->seaborn) (1.17.0)\n",
      "Downloading seaborn-0.13.2-py3-none-any.whl (294 kB)\n",
      "   ---------------------------------------- 0.0/294.9 kB ? eta -:--:--\n",
      "   ---------------------------------------- 0.0/294.9 kB ? eta -:--:--\n",
      "   ---------------------------------------- 0.0/294.9 kB ? eta -:--:--\n",
      "   ---------------------------------------- 0.0/294.9 kB ? eta -:--:--\n",
      "   ---------------------------------------- 0.0/294.9 kB ? eta -:--:--\n",
      "   - -------------------------------------- 10.2/294.9 kB ? eta -:--:--\n",
      "   - -------------------------------------- 10.2/294.9 kB ? eta -:--:--\n",
      "   ---- ---------------------------------- 30.7/294.9 kB 186.2 kB/s eta 0:00:02\n",
      "   ----- --------------------------------- 41.0/294.9 kB 178.6 kB/s eta 0:00:02\n",
      "   ---------- ---------------------------- 81.9/294.9 kB 327.3 kB/s eta 0:00:01\n",
      "   -------------------------- ----------- 204.8/294.9 kB 731.4 kB/s eta 0:00:01\n",
      "   ------------------------------------ - 286.7/294.9 kB 980.4 kB/s eta 0:00:01\n",
      "   -------------------------------------- 294.9/294.9 kB 865.3 kB/s eta 0:00:00\n",
      "Installing collected packages: seaborn\n",
      "Successfully installed seaborn-0.13.2\n",
      "Note: you may need to restart the kernel to use updated packages.\n"
     ]
    },
    {
     "name": "stderr",
     "output_type": "stream",
     "text": [
      "\n",
      "[notice] A new release of pip is available: 24.0 -> 25.1.1\n",
      "[notice] To update, run: C:\\Users\\Acer\\AppData\\Local\\Microsoft\\WindowsApps\\PythonSoftwareFoundation.Python.3.11_qbz5n2kfra8p0\\python.exe -m pip install --upgrade pip\n"
     ]
    }
   ],
   "source": [
    "pip install seaborn"
   ]
  },
  {
   "cell_type": "code",
   "execution_count": 23,
   "id": "c89e1148",
   "metadata": {},
   "outputs": [],
   "source": [
    "import seaborn as sns"
   ]
  },
  {
   "cell_type": "markdown",
   "id": "53f30726",
   "metadata": {},
   "source": [
    "How many students got placed vs. not placed?\n"
   ]
  },
  {
   "cell_type": "code",
   "execution_count": 26,
   "id": "66cc9bd1",
   "metadata": {},
   "outputs": [
    {
     "data": {
      "image/png": "[encoded data removed]",
      "text/plain": [
       "<Figure size 600x400 with 1 Axes>"
      ]
     },
     "metadata": {},
     "output_type": "display_data"
    }
   ],
   "source": [
    "plt.figure(figsize=(6,4))\n",
    "sns.countplot(x='Placement',data=df)\n",
    "plt.title(\"Student Placement Distibution\")\n",
    "plt.xlabel(\"Student Status\")\n",
    "plt.ylabel(\"Number of Students\")\n",
    "plt.show()"
   ]
  },
  {
   "cell_type": "markdown",
   "id": "91875735",
   "metadata": {},
   "source": [
    "What is the distribution of academic performance categories\n"
   ]
  },
  {
   "cell_type": "code",
   "execution_count": 34,
   "id": "5bc15b15",
   "metadata": {},
   "outputs": [
    {
     "name": "stderr",
     "output_type": "stream",
     "text": [
      "C:\\Users\\Acer\\AppData\\Local\\Temp\\ipykernel_11972\\1933238017.py:2: FutureWarning: \n",
      "\n",
      "Passing `palette` without assigning `hue` is deprecated and will be removed in v0.14.0. Assign the `x` variable to `hue` and set `legend=False` for the same effect.\n",
      "\n",
      "  sns.countplot(x='Academic_Performance', data=df, palette='pastel')\n"
     ]
    },
    {
     "data": {
      "image/png": "[encoded data removed]",
      "text/plain": [
       "<Figure size 640x480 with 1 Axes>"
      ]
     },
     "metadata": {},
     "output_type": "display_data"
    }
   ],
   "source": [
    "plt.Figure(figsize= (10,10))\n",
    "sns.countplot(x='Academic_Performance', data=df, palette='pastel')\n",
    "\n",
    "plt.title('Distribution of Academic Performance Categories')\n",
    "plt.xlabel('Academic Performance')\n",
    "plt.ylabel('Number of Students')\n",
    "plt.show()\n",
    "\n"
   ]
  },
  {
   "cell_type": "markdown",
   "id": "e0d61cca",
   "metadata": {},
   "source": [
    "How does the number of completed projects vary among students"
   ]
  },
  {
   "cell_type": "code",
   "execution_count": 32,
   "id": "2d7411b9",
   "metadata": {},
   "outputs": [
    {
     "data": {
      "image/png": "[encoded data removed]",
      "text/plain": [
       "<Figure size 640x480 with 1 Axes>"
      ]
     },
     "metadata": {},
     "output_type": "display_data"
    }
   ],
   "source": [
    "plt.Figure(figsize=(6,4))\n",
    "sns.countplot(x='Projects_Completed', data=df)\n",
    "plt.show()"
   ]
  },
  {
   "cell_type": "code",
   "execution_count": 33,
   "id": "bdf13358",
   "metadata": {},
   "outputs": [
    {
     "name": "stderr",
     "output_type": "stream",
     "text": [
      "C:\\Users\\Acer\\AppData\\Local\\Temp\\ipykernel_11972\\2113532512.py:2: FutureWarning: \n",
      "\n",
      "Passing `palette` without assigning `hue` is deprecated and will be removed in v0.14.0. Assign the `x` variable to `hue` and set `legend=False` for the same effect.\n",
      "\n",
      "  sns.countplot(x='Academic_Performance', data=df, palette='pastel')\n"
     ]
    },
    {
     "data": {
      "image/png": "[encoded data removed]",
      "text/plain": [
       "<Figure size 600x400 with 1 Axes>"
      ]
     },
     "metadata": {},
     "output_type": "display_data"
    }
   ],
   "source": [
    "\n",
    "plt.figure(figsize=(6, 4))\n",
    "sns.countplot(x='Academic_Performance', data=df, palette='pastel')\n",
    "\n",
    "plt.title('Distribution of Academic Performance Categories')\n",
    "plt.xlabel('Academic Performance')\n",
    "plt.ylabel('Number of Students')\n",
    "\n",
    "plt.show()"
   ]
  },
  {
   "cell_type": "markdown",
   "id": "e1458e3d",
   "metadata": {},
   "source": [
    "What percentage of students participate in extra-curricular activities actively? "
   ]
  },
  {
   "cell_type": "code",
   "execution_count": 35,
   "id": "7d97fe1d",
   "metadata": {},
   "outputs": [
    {
     "data": {
      "text/plain": [
       "10000"
      ]
     },
     "execution_count": 35,
     "metadata": {},
     "output_type": "execute_result"
    }
   ],
   "source": [
    "total_students = len(df)\n",
    "total_students"
   ]
  },
  {
   "cell_type": "code",
   "execution_count": null,
   "id": "212bab3b",
   "metadata": {},
   "outputs": [
    {
     "data": {
      "text/plain": [
       "3608"
      ]
     },
     "execution_count": 36,
     "metadata": {},
     "output_type": "execute_result"
    }
   ],
   "source": [
    "threshold = 7\n",
    "active_Participants = len(df[df['Extra_Curricular_Score']>= threshold])\n",
    "active_Participants\n"
   ]
  },
  {
   "cell_type": "code",
   "execution_count": 38,
   "id": "2094d6d8",
   "metadata": {},
   "outputs": [
    {
     "name": "stdout",
     "output_type": "stream",
     "text": [
      "Percentage of students actively participating in extra-curricular activities: 36.08%\n"
     ]
    }
   ],
   "source": [
    "Average_percentage = (active_Participants / total_students) * 100\n",
    "print(f\"Percentage of students actively participating in extra-curricular activities: {Average_percentage:.2f}%\")"
   ]
  },
  {
   "cell_type": "markdown",
   "id": "5581b41c",
   "metadata": {},
   "source": [
    "Is there a correlation between CGPA and placement?"
   ]
  },
  {
   "cell_type": "code",
   "execution_count": 39,
   "id": "f48c047a",
   "metadata": {},
   "outputs": [
    {
     "name": "stdout",
     "output_type": "stream",
     "text": [
      "Correlation Matrix:\n",
      "                               IQ  Prev_Sem_Result      CGPA  \\\n",
      "IQ                      1.000000        -0.002640 -0.002859   \n",
      "Prev_Sem_Result        -0.002640         1.000000  0.980768   \n",
      "CGPA                   -0.002859         0.980768  1.000000   \n",
      "Academic_Performance   -0.006827        -0.005765 -0.002958   \n",
      "Extra_Curricular_Score -0.003458         0.009326  0.011441   \n",
      "Communication_Skills   -0.010896        -0.017269 -0.018242   \n",
      "Projects_Completed      0.014538         0.018434  0.020872   \n",
      "\n",
      "                        Academic_Performance  Extra_Curricular_Score  \\\n",
      "IQ                                 -0.006827               -0.003458   \n",
      "Prev_Sem_Result                    -0.005765                0.009326   \n",
      "CGPA                               -0.002958                0.011441   \n",
      "Academic_Performance                1.000000                0.011774   \n",
      "Extra_Curricular_Score              0.011774                1.000000   \n",
      "Communication_Skills               -0.019733                0.003769   \n",
      "Projects_Completed                 -0.013148                0.008122   \n",
      "\n",
      "                        Communication_Skills  Projects_Completed  \n",
      "IQ                                 -0.010896            0.014538  \n",
      "Prev_Sem_Result                    -0.017269            0.018434  \n",
      "CGPA                               -0.018242            0.020872  \n",
      "Academic_Performance               -0.019733           -0.013148  \n",
      "Extra_Curricular_Score              0.003769            0.008122  \n",
      "Communication_Skills                1.000000           -0.004486  \n",
      "Projects_Completed                 -0.004486            1.000000  \n"
     ]
    }
   ],
   "source": [
    "correlation_matrix = df.corr(numeric_only=True)\n",
    "print(\"Correlation Matrix:\\n\", correlation_matrix)"
   ]
  },
  {
   "cell_type": "code",
   "execution_count": 41,
   "id": "5c5d47df",
   "metadata": {},
   "outputs": [
    {
     "data": {
      "image/png": "[encoded data removed]",
      "text/plain": [
       "<Figure size 640x480 with 2 Axes>"
      ]
     },
     "metadata": {},
     "output_type": "display_data"
    }
   ],
   "source": [
    "plt.Figure(figsize=(6,4))\n",
    "\n",
    "sns.heatmap(correlation_matrix,annot= True)\n",
    "plt.title('Correlation Heatmap')\n",
    "plt.show()"
   ]
  },
  {
   "cell_type": "markdown",
   "id": "44cdd21b",
   "metadata": {},
   "source": [
    "Do students with higher communication skills tend to get placed more?"
   ]
  },
  {
   "cell_type": "code",
   "execution_count": 43,
   "id": "d210451d",
   "metadata": {},
   "outputs": [
    {
     "name": "stderr",
     "output_type": "stream",
     "text": [
      "C:\\Users\\Acer\\AppData\\Local\\Temp\\ipykernel_11972\\1751893308.py:4: FutureWarning: \n",
      "\n",
      "Passing `palette` without assigning `hue` is deprecated and will be removed in v0.14.0. Assign the `x` variable to `hue` and set `legend=False` for the same effect.\n",
      "\n",
      "  sns.barplot(x='Placement', y='Communication_Skills', data=avg_comm_skills, palette='coolwarm')\n"
     ]
    },
    {
     "data": {
      "image/png": "[encoded data removed]",
      "text/plain": [
       "<Figure size 600x400 with 1 Axes>"
      ]
     },
     "metadata": {},
     "output_type": "display_data"
    }
   ],
   "source": [
    "avg_comm_skills = df.groupby('Placement')['Communication_Skills'].mean().reset_index()\n",
    "\n",
    "plt.figure(figsize=(6, 4))\n",
    "sns.barplot(x='Placement', y='Communication_Skills', data=avg_comm_skills, palette='coolwarm')\n",
    "\n",
    "plt.title('Average Communication Skills by Placement Status')\n",
    "plt.xlabel('Placement Status')\n",
    "plt.ylabel('Average Communication Skills')\n",
    "plt.ylim(0, 10)  # Assuming score is out of 10\n",
    "plt.grid(True)\n",
    "plt.show()"
   ]
  },
  {
   "cell_type": "markdown",
   "id": "8d6da891",
   "metadata": {},
   "source": [
    "Do students with higher CGPA tend to get placed more give me code"
   ]
  },
  {
   "cell_type": "code",
   "execution_count": 48,
   "id": "e9ca2f35",
   "metadata": {},
   "outputs": [
    {
     "name": "stderr",
     "output_type": "stream",
     "text": [
      "C:\\Users\\Acer\\AppData\\Local\\Temp\\ipykernel_11972\\4188593972.py:2: FutureWarning: \n",
      "\n",
      "Passing `palette` without assigning `hue` is deprecated and will be removed in v0.14.0. Assign the `x` variable to `hue` and set `legend=False` for the same effect.\n",
      "\n",
      "  sns.boxplot(x='Placement', y='CGPA', data=df, palette='Set3')\n"
     ]
    },
    {
     "data": {
      "image/png": "[encoded data removed]",
      "text/plain": [
       "<Figure size 600x400 with 1 Axes>"
      ]
     },
     "metadata": {},
     "output_type": "display_data"
    },
    {
     "name": "stdout",
     "output_type": "stream",
     "text": [
      "Average CGPA by Placement Status:\n",
      "\n",
      "Placement\n",
      "No     7.321527\n",
      "Yes    8.592483\n",
      "Name: CGPA, dtype: float64\n"
     ]
    }
   ],
   "source": [
    "plt.figure(figsize=(6, 4))\n",
    "sns.boxplot(x='Placement', y='CGPA', data=df, palette='Set3')\n",
    "\n",
    "\n",
    "plt.title('CGPA vs. Placement Status')\n",
    "plt.xlabel('Placement Status')\n",
    "plt.ylabel('CGPA')\n",
    "plt.grid(True)\n",
    "plt.show()\n",
    "plt.show()\n",
    "# Print average CGPA for placed vs. not placed\n",
    "avg_cgpa = df.groupby('Placement')['CGPA'].mean()\n",
    "print(\"Average CGPA by Placement Status:\\n\")\n",
    "print(avg_cgpa)"
   ]
  },
  {
   "cell_type": "markdown",
   "id": "b21c59df",
   "metadata": {},
   "source": [
    "Do students with higher communication skills tend to get placed more?\n",
    "\n"
   ]
  },
  {
   "cell_type": "code",
   "execution_count": 49,
   "id": "8d70304e",
   "metadata": {},
   "outputs": [
    {
     "name": "stderr",
     "output_type": "stream",
     "text": [
      "C:\\Users\\Acer\\AppData\\Local\\Temp\\ipykernel_11972\\259599989.py:2: FutureWarning: \n",
      "\n",
      "Passing `palette` without assigning `hue` is deprecated and will be removed in v0.14.0. Assign the `x` variable to `hue` and set `legend=False` for the same effect.\n",
      "\n",
      "  sns.boxplot(x='Placement', y='Communication_Skills', data=df, palette='coolwarm')\n"
     ]
    },
    {
     "data": {
      "image/png": "[encoded data removed]",
      "text/plain": [
       "<Figure size 600x400 with 1 Axes>"
      ]
     },
     "metadata": {},
     "output_type": "display_data"
    }
   ],
   "source": [
    "plt.figure(figsize=(6, 4))\n",
    "sns.boxplot(x='Placement', y='Communication_Skills', data=df, palette='coolwarm')\n",
    "plt.title('Communication Skills vs. Placement Status')\n",
    "plt.xlabel('Placement Status')\n",
    "plt.ylabel('Communication Skills')\n",
    "plt.grid(True)\n",
    "plt.show()"
   ]
  },
  {
   "cell_type": "markdown",
   "id": "663c853f",
   "metadata": {},
   "source": [
    "Do students with more completed projects have higher placement rates?"
   ]
  },
  {
   "cell_type": "code",
   "execution_count": 50,
   "id": "4298643e",
   "metadata": {},
   "outputs": [
    {
     "name": "stderr",
     "output_type": "stream",
     "text": [
      "C:\\Users\\Acer\\AppData\\Local\\Temp\\ipykernel_11972\\1504910331.py:5: FutureWarning: \n",
      "\n",
      "Passing `palette` without assigning `hue` is deprecated and will be removed in v0.14.0. Assign the `x` variable to `hue` and set `legend=False` for the same effect.\n",
      "\n",
      "  sns.barplot(x='Placement', y='Projects_Completed', data=avg_projects, palette='pastel')\n"
     ]
    },
    {
     "data": {
      "image/png": "[encoded data removed]",
      "text/plain": [
       "<Figure size 600x400 with 1 Axes>"
      ]
     },
     "metadata": {},
     "output_type": "display_data"
    }
   ],
   "source": [
    "avg_projects = df.groupby('Placement')['Projects_Completed'].mean().reset_index()\n",
    "\n",
    "# Bar plot of average projects completed\n",
    "plt.figure(figsize=(6, 4))\n",
    "sns.barplot(x='Placement', y='Projects_Completed', data=avg_projects, palette='pastel')\n",
    "plt.title('Average Projects Completed by Placement Status')\n",
    "plt.xlabel('Placement Status')\n",
    "plt.ylabel('Average Projects Completed')\n",
    "plt.grid(True)\n",
    "plt.show()"
   ]
  },
  {
   "cell_type": "code",
   "execution_count": 51,
   "id": "0a592126",
   "metadata": {},
   "outputs": [
    {
     "data": {
      "image/png": "[encoded data removed]",
      "text/plain": [
       "<Figure size 800x400 with 1 Axes>"
      ]
     },
     "metadata": {},
     "output_type": "display_data"
    }
   ],
   "source": [
    "plt.figure(figsize=(8, 4))\n",
    "sns.countplot(x='Projects_Completed', hue='Placement', data=df, palette='Set2')\n",
    "plt.title('Placement Count by Projects Completed')\n",
    "plt.xlabel('Projects Completed')\n",
    "plt.ylabel('Number of Students')\n",
    "plt.grid(True)\n",
    "plt.show()"
   ]
  },
  {
   "cell_type": "code",
   "execution_count": null,
   "id": "68c6669d",
   "metadata": {},
   "outputs": [],
   "source": []
  }
 ],
 "metadata": {
  "kernelspec": {
   "display_name": "Python 3",
   "language": "python",
   "name": "python3"
  },
  "language_info": {
   "codemirror_mode": {
    "name": "ipython",
    "version": 3
   },
   "file_extension": ".py",
   "mimetype": "text/x-python",
   "name": "python",
   "nbconvert_exporter": "python",
   "pygments_lexer": "ipython3",
   "version": "3.11.9"
  }
 },
 "nbformat": 4,
 "nbformat_minor": 5
}
